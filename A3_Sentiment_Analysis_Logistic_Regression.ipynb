{
  "nbformat": 4,
  "nbformat_minor": 0,
  "metadata": {
    "colab": {
      "name": "Copy of A3_Sentiment_Analysis_Logistic_Regression.ipynb",
      "provenance": [],
      "collapsed_sections": []
    },
    "language_info": {
      "codemirror_mode": {
        "name": "ipython",
        "version": 3
      },
      "file_extension": ".py",
      "mimetype": "text/x-python",
      "name": "python",
      "nbconvert_exporter": "python",
      "pygments_lexer": "ipython3",
      "version": "3.6.5"
    },
    "kernelspec": {
      "display_name": "Python 3",
      "language": "python",
      "name": "python3"
    }
  },
  "cells": [
    {
      "cell_type": "markdown",
      "metadata": {
        "id": "qQhwxRlZoKH5",
        "colab_type": "text"
      },
      "source": [
        "# Predicting sentiment from product reviews\n",
        "\n",
        "### Due: Tuesday, July 14, at 11:59 pm on Gradescope\n",
        "\n",
        "The goal of this first notebook is to explore logistic regression and feature engineering with sklearn.\n",
        "\n",
        "In this notebook you will use product review data from Amazon.com to predict whether the sentiments about a product (from its reviews) are positive or negative.\n",
        "\n",
        "* Use Pandas Dataframes to do feature engineering\n",
        "* Train a logistic regression model to predict the sentiment of product reviews.\n",
        "* Inspect the weights (coefficients) of a trained logistic regression model.\n",
        "* Make a prediction (both class and probability) of sentiment for a new product review.\n",
        "* Given a classifier, create a confusion matrix\n",
        "* Compare multiple logistic regression models.\n"
      ]
    },
    {
      "cell_type": "code",
      "metadata": {
        "id": "oI0Mi7T7oKH7",
        "colab_type": "code",
        "colab": {}
      },
      "source": [
        "from __future__ import division\n",
        "from sklearn.linear_model import LogisticRegression\n",
        "from sklearn.model_selection import train_test_split\n",
        "from sklearn.feature_extraction import DictVectorizer\n",
        "import pandas as pd\n",
        "import math\n",
        "import string\n",
        "import matplotlib.pyplot as plt\n",
        "import numpy as np\n",
        "import seaborn as sns\n",
        "%matplotlib inline\n",
        "import warnings\n",
        "warnings.filterwarnings('ignore')\n",
        "import os\n",
        "import json\n",
        "import gzip\n",
        "from urllib.request import urlopen"
      ],
      "execution_count": 85,
      "outputs": []
    },
    {
      "cell_type": "markdown",
      "metadata": {
        "id": "Fy0LtMjloKIA",
        "colab_type": "text"
      },
      "source": [
        "# Data preparation\n",
        "\n",
        "We will use a dataset consisting of food product reviews on Amazon.com [source](http://jmcauley.ucsd.edu/data/amazon/)."
      ]
    },
    {
      "cell_type": "code",
      "metadata": {
        "id": "BSrjyLM0rYcY",
        "colab_type": "code",
        "colab": {}
      },
      "source": [
        "# This cell is necessary only if you are running on Google Colab\n",
        "\n",
        "import requests\n",
        "\n",
        "def save_file(url, file_name):\n",
        "  r = requests.get(url)\n",
        "  with open(file_name, 'wb') as f:\n",
        "    f.write(r.content)\n",
        "\n",
        "save_file('https://homes.cs.washington.edu/~vinitra/cse416/a3/food_products.csv',\n",
        "          'food_products.csv')"
      ],
      "execution_count": 86,
      "outputs": []
    },
    {
      "cell_type": "code",
      "metadata": {
        "id": "gaNi651vQ7G3",
        "colab_type": "code",
        "colab": {
          "base_uri": "https://localhost:8080/",
          "height": 69
        },
        "outputId": "25ca3659-41a2-43c3-b89a-4b442e737774"
      },
      "source": [
        "products = pd.read_csv('food_products.csv')\n",
        "print(len(products))\n",
        "products.iloc[1]['review']"
      ],
      "execution_count": 87,
      "outputs": [
        {
          "output_type": "stream",
          "text": [
            "2500\n"
          ],
          "name": "stdout"
        },
        {
          "output_type": "execute_result",
          "data": {
            "application/vnd.google.colaboratory.intrinsic": {
              "type": "string"
            },
            "text/plain": [
              "'I found these in a Mitsuwa Marketplace in Illinois.I actually expected them to taste better than the did.  they were okay but seem smaller than standard kit kats and the taste was a tad mild compared to other green tea candies I have tried.But still, they were pleasant enough and nice for a change.'"
            ]
          },
          "metadata": {
            "tags": []
          },
          "execution_count": 87
        }
      ]
    },
    {
      "cell_type": "markdown",
      "metadata": {
        "id": "38hctA0HoKIC",
        "colab_type": "text"
      },
      "source": [
        "## Extract sentiments\n",
        "\n",
        "We will **ignore** all reviews with *rating = 3*, since they tend to have a neutral sentiment."
      ]
    },
    {
      "cell_type": "code",
      "metadata": {
        "id": "Qd_21Ur5oKID",
        "colab_type": "code",
        "colab": {
          "base_uri": "https://localhost:8080/",
          "height": 34
        },
        "outputId": "0bd88d6d-98da-44a0-941e-349e937674cf"
      },
      "source": [
        "products = products[products['rating'] != 3]\n",
        "len(products)"
      ],
      "execution_count": 88,
      "outputs": [
        {
          "output_type": "execute_result",
          "data": {
            "text/plain": [
              "1729"
            ]
          },
          "metadata": {
            "tags": []
          },
          "execution_count": 88
        }
      ]
    },
    {
      "cell_type": "code",
      "metadata": {
        "id": "EFWGCzKI6d1S",
        "colab_type": "code",
        "colab": {
          "base_uri": "https://localhost:8080/",
          "height": 298
        },
        "outputId": "3e8754f3-5962-4a2e-dfbf-495c05fef803"
      },
      "source": [
        "plt.title('Number of reviews with a given rating')\n",
        "products['rating'].hist()"
      ],
      "execution_count": 89,
      "outputs": [
        {
          "output_type": "execute_result",
          "data": {
            "text/plain": [
              "<matplotlib.axes._subplots.AxesSubplot at 0x7f86f444a9e8>"
            ]
          },
          "metadata": {
            "tags": []
          },
          "execution_count": 89
        },
        {
          "output_type": "display_data",
          "data": {
            "image/png": "[encoded data removed]",
            "text/plain": [
              "<Figure size 432x288 with 1 Axes>"
            ]
          },
          "metadata": {
            "tags": [],
            "needs_background": "light"
          }
        }
      ]
    },
    {
      "cell_type": "markdown",
      "metadata": {
        "id": "FcJISX31oKIE",
        "colab_type": "text"
      },
      "source": [
        "Now, we will assign reviews with a rating of 4 or higher to be *positive* reviews, while the ones with rating of 2 or lower are *negative*. For the sentiment column, we use +1 for the positive class label and -1 for the negative class label."
      ]
    },
    {
      "cell_type": "code",
      "metadata": {
        "id": "M5W5A0_foKIF",
        "colab_type": "code",
        "colab": {
          "base_uri": "https://localhost:8080/",
          "height": 669
        },
        "outputId": "199ec9bb-f162-4bd4-c018-32be445c0aab"
      },
      "source": [
        "products['sentiment'] = products['rating'].apply(lambda rating : +1 if rating > 3 else -1)\n",
        "products[0:20]"
      ],
      "execution_count": 90,
      "outputs": [
        {
          "output_type": "execute_result",
          "data": {
            "text/html": [
              "<div>\n",
              "<style scoped>\n",
              "    .dataframe tbody tr th:only-of-type {\n",
              "        vertical-align: middle;\n",
              "    }\n",
              "\n",
              "    .dataframe tbody tr th {\n",
              "        vertical-align: top;\n",
              "    }\n",
              "\n",
              "    .dataframe thead th {\n",
              "        text-align: right;\n",
              "    }\n",
              "</style>\n",
              "<table border=\"1\" class=\"dataframe\">\n",
              "  <thead>\n",
              "    <tr style=\"text-align: right;\">\n",
              "      <th></th>\n",
              "      <th>Unnamed: 0</th>\n",
              "      <th>summary</th>\n",
              "      <th>review</th>\n",
              "      <th>rating</th>\n",
              "      <th>sentiment</th>\n",
              "    </tr>\n",
              "  </thead>\n",
              "  <tbody>\n",
              "    <tr>\n",
              "      <th>2</th>\n",
              "      <td>9</td>\n",
              "      <td>Not a fan</td>\n",
              "      <td>I love green tea, I love Kit Kats, but the two...</td>\n",
              "      <td>1.0</td>\n",
              "      <td>-1</td>\n",
              "    </tr>\n",
              "    <tr>\n",
              "      <th>4</th>\n",
              "      <td>20</td>\n",
              "      <td>Thai curry is the way to go to add spice to an...</td>\n",
              "      <td>So many flavors. I can't begin to tell you how...</td>\n",
              "      <td>5.0</td>\n",
              "      <td>1</td>\n",
              "    </tr>\n",
              "    <tr>\n",
              "      <th>5</th>\n",
              "      <td>28</td>\n",
              "      <td>Delicious</td>\n",
              "      <td>I have tried all the curris from Mae Ploy (exc...</td>\n",
              "      <td>5.0</td>\n",
              "      <td>1</td>\n",
              "    </tr>\n",
              "    <tr>\n",
              "      <th>7</th>\n",
              "      <td>32</td>\n",
              "      <td>Not natural/organic at all</td>\n",
              "      <td>This product is no where near natural / organi...</td>\n",
              "      <td>1.0</td>\n",
              "      <td>-1</td>\n",
              "    </tr>\n",
              "    <tr>\n",
              "      <th>9</th>\n",
              "      <td>46</td>\n",
              "      <td>They work well enough.</td>\n",
              "      <td>There's a vague taste of apple cinnamon, but m...</td>\n",
              "      <td>4.0</td>\n",
              "      <td>1</td>\n",
              "    </tr>\n",
              "    <tr>\n",
              "      <th>11</th>\n",
              "      <td>49</td>\n",
              "      <td>Lessens the effects of an asthma attack</td>\n",
              "      <td>If my wife drinks a cup of this tea when she f...</td>\n",
              "      <td>5.0</td>\n",
              "      <td>1</td>\n",
              "    </tr>\n",
              "    <tr>\n",
              "      <th>13</th>\n",
              "      <td>54</td>\n",
              "      <td>Dark Chocolate Toffee Nut - fantastic flavor! ...</td>\n",
              "      <td>I really enjoy PowerBar ProteinPlus bars - but...</td>\n",
              "      <td>5.0</td>\n",
              "      <td>1</td>\n",
              "    </tr>\n",
              "    <tr>\n",
              "      <th>15</th>\n",
              "      <td>63</td>\n",
              "      <td>Nostalgia</td>\n",
              "      <td>I was born in the 80's, and this was brought i...</td>\n",
              "      <td>5.0</td>\n",
              "      <td>1</td>\n",
              "    </tr>\n",
              "    <tr>\n",
              "      <th>16</th>\n",
              "      <td>65</td>\n",
              "      <td>great</td>\n",
              "      <td>my niece teaches underprivileged kids in flori...</td>\n",
              "      <td>5.0</td>\n",
              "      <td>1</td>\n",
              "    </tr>\n",
              "    <tr>\n",
              "      <th>17</th>\n",
              "      <td>75</td>\n",
              "      <td>Not soft at all. Basically same as cheap licor...</td>\n",
              "      <td>Licorice is my favorite candy, and it promotes...</td>\n",
              "      <td>1.0</td>\n",
              "      <td>-1</td>\n",
              "    </tr>\n",
              "    <tr>\n",
              "      <th>18</th>\n",
              "      <td>81</td>\n",
              "      <td>Panda licorice</td>\n",
              "      <td>Panda licorice, There is not too much I can sa...</td>\n",
              "      <td>5.0</td>\n",
              "      <td>1</td>\n",
              "    </tr>\n",
              "    <tr>\n",
              "      <th>19</th>\n",
              "      <td>82</td>\n",
              "      <td>Love this candy!</td>\n",
              "      <td>This is an awesome product, natural, not a lot...</td>\n",
              "      <td>1.0</td>\n",
              "      <td>-1</td>\n",
              "    </tr>\n",
              "    <tr>\n",
              "      <th>20</th>\n",
              "      <td>85</td>\n",
              "      <td>NOT gluten free</td>\n",
              "      <td>As soon as I had a couple of sips, my eczema s...</td>\n",
              "      <td>1.0</td>\n",
              "      <td>-1</td>\n",
              "    </tr>\n",
              "    <tr>\n",
              "      <th>22</th>\n",
              "      <td>94</td>\n",
              "      <td>Good stuff</td>\n",
              "      <td>This was good stuff but I just went thru it to...</td>\n",
              "      <td>5.0</td>\n",
              "      <td>1</td>\n",
              "    </tr>\n",
              "    <tr>\n",
              "      <th>26</th>\n",
              "      <td>105</td>\n",
              "      <td>Great purchase</td>\n",
              "      <td>I have been intrigued by the pour over coffee ...</td>\n",
              "      <td>5.0</td>\n",
              "      <td>1</td>\n",
              "    </tr>\n",
              "    <tr>\n",
              "      <th>27</th>\n",
              "      <td>119</td>\n",
              "      <td>Really vibrant colors for just a little dye</td>\n",
              "      <td>Yeah, this dye is tasteless as advertised!  I ...</td>\n",
              "      <td>5.0</td>\n",
              "      <td>1</td>\n",
              "    </tr>\n",
              "    <tr>\n",
              "      <th>28</th>\n",
              "      <td>122</td>\n",
              "      <td>A bit pricey, but cool if you're into cake dec...</td>\n",
              "      <td>A bit pricey, but a little goes a long way.  A...</td>\n",
              "      <td>4.0</td>\n",
              "      <td>1</td>\n",
              "    </tr>\n",
              "    <tr>\n",
              "      <th>29</th>\n",
              "      <td>134</td>\n",
              "      <td>Ingredients are unhealthy</td>\n",
              "      <td>No way would I put the vast majority of the in...</td>\n",
              "      <td>2.0</td>\n",
              "      <td>-1</td>\n",
              "    </tr>\n",
              "    <tr>\n",
              "      <th>30</th>\n",
              "      <td>146</td>\n",
              "      <td>Cinnamon Licorice powder</td>\n",
              "      <td>this stuff is a poor example of an authentic 5...</td>\n",
              "      <td>2.0</td>\n",
              "      <td>-1</td>\n",
              "    </tr>\n",
              "    <tr>\n",
              "      <th>31</th>\n",
              "      <td>149</td>\n",
              "      <td>Fabulous</td>\n",
              "      <td>I tried to find this spice and was unsuccessfu...</td>\n",
              "      <td>5.0</td>\n",
              "      <td>1</td>\n",
              "    </tr>\n",
              "  </tbody>\n",
              "</table>\n",
              "</div>"
            ],
            "text/plain": [
              "    Unnamed: 0  ... sentiment\n",
              "2            9  ...        -1\n",
              "4           20  ...         1\n",
              "5           28  ...         1\n",
              "7           32  ...        -1\n",
              "9           46  ...         1\n",
              "11          49  ...         1\n",
              "13          54  ...         1\n",
              "15          63  ...         1\n",
              "16          65  ...         1\n",
              "17          75  ...        -1\n",
              "18          81  ...         1\n",
              "19          82  ...        -1\n",
              "20          85  ...        -1\n",
              "22          94  ...         1\n",
              "26         105  ...         1\n",
              "27         119  ...         1\n",
              "28         122  ...         1\n",
              "29         134  ...        -1\n",
              "30         146  ...        -1\n",
              "31         149  ...         1\n",
              "\n",
              "[20 rows x 5 columns]"
            ]
          },
          "metadata": {
            "tags": []
          },
          "execution_count": 90
        }
      ]
    },
    {
      "cell_type": "markdown",
      "metadata": {
        "id": "e0nuFuVEoKIG",
        "colab_type": "text"
      },
      "source": [
        "Now, we can see that the dataset contains an extra column called **sentiment** which is either positive (+1) or negative (-1)."
      ]
    },
    {
      "cell_type": "markdown",
      "metadata": {
        "id": "y6O8Q5_1oKIH",
        "colab_type": "text"
      },
      "source": [
        "## Build the word count vector for each review"
      ]
    },
    {
      "cell_type": "markdown",
      "metadata": {
        "id": "4YerX_aloKIH",
        "colab_type": "text"
      },
      "source": [
        "Let us explore a specific example of a food product."
      ]
    },
    {
      "cell_type": "code",
      "metadata": {
        "id": "LG6I0CV5oKII",
        "colab_type": "code",
        "colab": {
          "base_uri": "https://localhost:8080/",
          "height": 119
        },
        "outputId": "7268c84f-f3a4-4b6b-ef7a-85978b25545e"
      },
      "source": [
        "products.iloc[21]"
      ],
      "execution_count": 91,
      "outputs": [
        {
          "output_type": "execute_result",
          "data": {
            "text/plain": [
              "Unnamed: 0                                                  162\n",
              "summary                                                Not good\n",
              "review        unsure if I just got a bad batch or what...the...\n",
              "rating                                                        1\n",
              "sentiment                                                    -1\n",
              "Name: 37, dtype: object"
            ]
          },
          "metadata": {
            "tags": []
          },
          "execution_count": 91
        }
      ]
    },
    {
      "cell_type": "markdown",
      "metadata": {
        "id": "H3PE8muToKIJ",
        "colab_type": "text"
      },
      "source": [
        "Now, we will perform 2 simple data transformations:\n",
        "\n",
        "1. Remove punctuation using [Python's built-in](https://docs.python.org/2/library/string.html) string functionality.\n",
        "2. Transform the reviews into word-counts.\n",
        "\n",
        "**Aside**. In this assignment, we remove all punctuations for the sake of simplicity. A smarter approach to punctuations would preserve phrases such as \"I'd\", \"would've\", \"hadn't\" and so forth. See [this page](ftp://ftp.cis.upenn.edu/pub/treebank/public_html/tokenization.html) for an example of smart handling of punctuations."
      ]
    },
    {
      "cell_type": "code",
      "metadata": {
        "id": "_3MS9d_ioKIK",
        "colab_type": "code",
        "colab": {}
      },
      "source": [
        "def remove_punctuation(text):\n",
        "    if type(text) != str:\n",
        "        return ''\n",
        "    return text.translate(str.maketrans('', '', string.punctuation))\n",
        "\n",
        "products['review_clean'] = products['review'].apply(remove_punctuation)"
      ],
      "execution_count": 92,
      "outputs": []
    },
    {
      "cell_type": "markdown",
      "metadata": {
        "id": "_gO-Aky6oKIN",
        "colab_type": "text"
      },
      "source": [
        "Now, let us explore what the sample example above looks like after these 2 transformations."
      ]
    },
    {
      "cell_type": "code",
      "metadata": {
        "id": "8XIKsds4oKIR",
        "colab_type": "code",
        "colab": {}
      },
      "source": [
        "word_count = []\n",
        "\n",
        "for i in range(0,len(products)):\n",
        "    word_count_dict = {}\n",
        "    review_clean = products['review_clean'].iloc[i]\n",
        "    review_clean = review_clean.split(' ')\n",
        "    for word in review_clean:\n",
        "        if word in word_count_dict.keys():\n",
        "            word_count_dict[word] += 1\n",
        "        else:\n",
        "            word_count_dict[word] = 1\n",
        "    word_count.append(word_count_dict)\n",
        "\n",
        "products['word_count'] = word_count"
      ],
      "execution_count": 93,
      "outputs": []
    },
    {
      "cell_type": "code",
      "metadata": {
        "id": "3evm92C2oKIW",
        "colab_type": "code",
        "colab": {}
      },
      "source": [
        "# Create a DictVectorizer and create vectors for these dictionaries\n",
        "dictVectorizer = DictVectorizer()\n",
        "features_Frame = dictVectorizer.fit_transform(products['word_count'])"
      ],
      "execution_count": 94,
      "outputs": []
    },
    {
      "cell_type": "code",
      "metadata": {
        "id": "O71CCFy8oKIY",
        "colab_type": "code",
        "colab": {
          "base_uri": "https://localhost:8080/",
          "height": 474
        },
        "outputId": "34c2bf9d-cd01-4c1f-88b5-765576adfaf4"
      },
      "source": [
        "# Create a new DataFrame that has all these features as columns plus the sentiment label!\n",
        "product_data = pd.DataFrame(features_Frame.toarray())\n",
        "product_data['sentiment'] = list(products['sentiment'])\n",
        "product_data['review_clean'] = list(products['review_clean'])  # to display later\n",
        "product_data['summary'] = list(products['summary'])  # to display later\n",
        "product_data.head()"
      ],
      "execution_count": 95,
      "outputs": [
        {
          "output_type": "execute_result",
          "data": {
            "text/html": [
              "<div>\n",
              "<style scoped>\n",
              "    .dataframe tbody tr th:only-of-type {\n",
              "        vertical-align: middle;\n",
              "    }\n",
              "\n",
              "    .dataframe tbody tr th {\n",
              "        vertical-align: top;\n",
              "    }\n",
              "\n",
              "    .dataframe thead th {\n",
              "        text-align: right;\n",
              "    }\n",
              "</style>\n",
              "<table border=\"1\" class=\"dataframe\">\n",
              "  <thead>\n",
              "    <tr style=\"text-align: right;\">\n",
              "      <th></th>\n",
              "      <th>0</th>\n",
              "      <th>1</th>\n",
              "      <th>2</th>\n",
              "      <th>3</th>\n",
              "      <th>4</th>\n",
              "      <th>5</th>\n",
              "      <th>6</th>\n",
              "      <th>7</th>\n",
              "      <th>8</th>\n",
              "      <th>9</th>\n",
              "      <th>10</th>\n",
              "      <th>11</th>\n",
              "      <th>12</th>\n",
              "      <th>13</th>\n",
              "      <th>14</th>\n",
              "      <th>15</th>\n",
              "      <th>16</th>\n",
              "      <th>17</th>\n",
              "      <th>18</th>\n",
              "      <th>19</th>\n",
              "      <th>20</th>\n",
              "      <th>21</th>\n",
              "      <th>22</th>\n",
              "      <th>23</th>\n",
              "      <th>24</th>\n",
              "      <th>25</th>\n",
              "      <th>26</th>\n",
              "      <th>27</th>\n",
              "      <th>28</th>\n",
              "      <th>29</th>\n",
              "      <th>30</th>\n",
              "      <th>31</th>\n",
              "      <th>32</th>\n",
              "      <th>33</th>\n",
              "      <th>34</th>\n",
              "      <th>35</th>\n",
              "      <th>36</th>\n",
              "      <th>37</th>\n",
              "      <th>38</th>\n",
              "      <th>39</th>\n",
              "      <th>...</th>\n",
              "      <th>13715</th>\n",
              "      <th>13716</th>\n",
              "      <th>13717</th>\n",
              "      <th>13718</th>\n",
              "      <th>13719</th>\n",
              "      <th>13720</th>\n",
              "      <th>13721</th>\n",
              "      <th>13722</th>\n",
              "      <th>13723</th>\n",
              "      <th>13724</th>\n",
              "      <th>13725</th>\n",
              "      <th>13726</th>\n",
              "      <th>13727</th>\n",
              "      <th>13728</th>\n",
              "      <th>13729</th>\n",
              "      <th>13730</th>\n",
              "      <th>13731</th>\n",
              "      <th>13732</th>\n",
              "      <th>13733</th>\n",
              "      <th>13734</th>\n",
              "      <th>13735</th>\n",
              "      <th>13736</th>\n",
              "      <th>13737</th>\n",
              "      <th>13738</th>\n",
              "      <th>13739</th>\n",
              "      <th>13740</th>\n",
              "      <th>13741</th>\n",
              "      <th>13742</th>\n",
              "      <th>13743</th>\n",
              "      <th>13744</th>\n",
              "      <th>13745</th>\n",
              "      <th>13746</th>\n",
              "      <th>13747</th>\n",
              "      <th>13748</th>\n",
              "      <th>13749</th>\n",
              "      <th>13750</th>\n",
              "      <th>13751</th>\n",
              "      <th>sentiment</th>\n",
              "      <th>review_clean</th>\n",
              "      <th>summary</th>\n",
              "    </tr>\n",
              "  </thead>\n",
              "  <tbody>\n",
              "    <tr>\n",
              "      <th>0</th>\n",
              "      <td>0.0</td>\n",
              "      <td>0.0</td>\n",
              "      <td>0.0</td>\n",
              "      <td>0.0</td>\n",
              "      <td>0.0</td>\n",
              "      <td>0.0</td>\n",
              "      <td>0.0</td>\n",
              "      <td>0.0</td>\n",
              "      <td>0.0</td>\n",
              "      <td>0.0</td>\n",
              "      <td>0.0</td>\n",
              "      <td>0.0</td>\n",
              "      <td>0.0</td>\n",
              "      <td>0.0</td>\n",
              "      <td>0.0</td>\n",
              "      <td>0.0</td>\n",
              "      <td>0.0</td>\n",
              "      <td>0.0</td>\n",
              "      <td>0.0</td>\n",
              "      <td>0.0</td>\n",
              "      <td>0.0</td>\n",
              "      <td>0.0</td>\n",
              "      <td>0.0</td>\n",
              "      <td>0.0</td>\n",
              "      <td>0.0</td>\n",
              "      <td>0.0</td>\n",
              "      <td>0.0</td>\n",
              "      <td>0.0</td>\n",
              "      <td>0.0</td>\n",
              "      <td>0.0</td>\n",
              "      <td>0.0</td>\n",
              "      <td>0.0</td>\n",
              "      <td>0.0</td>\n",
              "      <td>0.0</td>\n",
              "      <td>0.0</td>\n",
              "      <td>0.0</td>\n",
              "      <td>0.0</td>\n",
              "      <td>0.0</td>\n",
              "      <td>0.0</td>\n",
              "      <td>0.0</td>\n",
              "      <td>...</td>\n",
              "      <td>0.0</td>\n",
              "      <td>0.0</td>\n",
              "      <td>0.0</td>\n",
              "      <td>0.0</td>\n",
              "      <td>0.0</td>\n",
              "      <td>0.0</td>\n",
              "      <td>0.0</td>\n",
              "      <td>0.0</td>\n",
              "      <td>0.0</td>\n",
              "      <td>0.0</td>\n",
              "      <td>0.0</td>\n",
              "      <td>0.0</td>\n",
              "      <td>0.0</td>\n",
              "      <td>0.0</td>\n",
              "      <td>0.0</td>\n",
              "      <td>0.0</td>\n",
              "      <td>0.0</td>\n",
              "      <td>0.0</td>\n",
              "      <td>0.0</td>\n",
              "      <td>0.0</td>\n",
              "      <td>0.0</td>\n",
              "      <td>0.0</td>\n",
              "      <td>0.0</td>\n",
              "      <td>0.0</td>\n",
              "      <td>0.0</td>\n",
              "      <td>0.0</td>\n",
              "      <td>0.0</td>\n",
              "      <td>0.0</td>\n",
              "      <td>0.0</td>\n",
              "      <td>0.0</td>\n",
              "      <td>0.0</td>\n",
              "      <td>0.0</td>\n",
              "      <td>0.0</td>\n",
              "      <td>0.0</td>\n",
              "      <td>0.0</td>\n",
              "      <td>0.0</td>\n",
              "      <td>0.0</td>\n",
              "      <td>-1</td>\n",
              "      <td>I love green tea I love Kit Kats but the two d...</td>\n",
              "      <td>Not a fan</td>\n",
              "    </tr>\n",
              "    <tr>\n",
              "      <th>1</th>\n",
              "      <td>1.0</td>\n",
              "      <td>0.0</td>\n",
              "      <td>0.0</td>\n",
              "      <td>0.0</td>\n",
              "      <td>0.0</td>\n",
              "      <td>0.0</td>\n",
              "      <td>0.0</td>\n",
              "      <td>0.0</td>\n",
              "      <td>0.0</td>\n",
              "      <td>0.0</td>\n",
              "      <td>0.0</td>\n",
              "      <td>0.0</td>\n",
              "      <td>0.0</td>\n",
              "      <td>0.0</td>\n",
              "      <td>0.0</td>\n",
              "      <td>0.0</td>\n",
              "      <td>0.0</td>\n",
              "      <td>0.0</td>\n",
              "      <td>0.0</td>\n",
              "      <td>0.0</td>\n",
              "      <td>0.0</td>\n",
              "      <td>0.0</td>\n",
              "      <td>0.0</td>\n",
              "      <td>0.0</td>\n",
              "      <td>0.0</td>\n",
              "      <td>0.0</td>\n",
              "      <td>0.0</td>\n",
              "      <td>0.0</td>\n",
              "      <td>0.0</td>\n",
              "      <td>0.0</td>\n",
              "      <td>0.0</td>\n",
              "      <td>0.0</td>\n",
              "      <td>0.0</td>\n",
              "      <td>0.0</td>\n",
              "      <td>0.0</td>\n",
              "      <td>0.0</td>\n",
              "      <td>0.0</td>\n",
              "      <td>0.0</td>\n",
              "      <td>0.0</td>\n",
              "      <td>0.0</td>\n",
              "      <td>...</td>\n",
              "      <td>0.0</td>\n",
              "      <td>0.0</td>\n",
              "      <td>0.0</td>\n",
              "      <td>0.0</td>\n",
              "      <td>0.0</td>\n",
              "      <td>0.0</td>\n",
              "      <td>0.0</td>\n",
              "      <td>0.0</td>\n",
              "      <td>0.0</td>\n",
              "      <td>0.0</td>\n",
              "      <td>0.0</td>\n",
              "      <td>0.0</td>\n",
              "      <td>0.0</td>\n",
              "      <td>0.0</td>\n",
              "      <td>0.0</td>\n",
              "      <td>0.0</td>\n",
              "      <td>0.0</td>\n",
              "      <td>0.0</td>\n",
              "      <td>0.0</td>\n",
              "      <td>0.0</td>\n",
              "      <td>0.0</td>\n",
              "      <td>0.0</td>\n",
              "      <td>0.0</td>\n",
              "      <td>0.0</td>\n",
              "      <td>0.0</td>\n",
              "      <td>0.0</td>\n",
              "      <td>0.0</td>\n",
              "      <td>0.0</td>\n",
              "      <td>0.0</td>\n",
              "      <td>0.0</td>\n",
              "      <td>0.0</td>\n",
              "      <td>0.0</td>\n",
              "      <td>0.0</td>\n",
              "      <td>0.0</td>\n",
              "      <td>0.0</td>\n",
              "      <td>0.0</td>\n",
              "      <td>0.0</td>\n",
              "      <td>1</td>\n",
              "      <td>So many flavors I cant begin to tell you how m...</td>\n",
              "      <td>Thai curry is the way to go to add spice to an...</td>\n",
              "    </tr>\n",
              "    <tr>\n",
              "      <th>2</th>\n",
              "      <td>0.0</td>\n",
              "      <td>0.0</td>\n",
              "      <td>0.0</td>\n",
              "      <td>0.0</td>\n",
              "      <td>0.0</td>\n",
              "      <td>0.0</td>\n",
              "      <td>0.0</td>\n",
              "      <td>0.0</td>\n",
              "      <td>0.0</td>\n",
              "      <td>0.0</td>\n",
              "      <td>0.0</td>\n",
              "      <td>0.0</td>\n",
              "      <td>0.0</td>\n",
              "      <td>0.0</td>\n",
              "      <td>0.0</td>\n",
              "      <td>0.0</td>\n",
              "      <td>0.0</td>\n",
              "      <td>0.0</td>\n",
              "      <td>0.0</td>\n",
              "      <td>0.0</td>\n",
              "      <td>0.0</td>\n",
              "      <td>0.0</td>\n",
              "      <td>0.0</td>\n",
              "      <td>0.0</td>\n",
              "      <td>0.0</td>\n",
              "      <td>0.0</td>\n",
              "      <td>0.0</td>\n",
              "      <td>0.0</td>\n",
              "      <td>0.0</td>\n",
              "      <td>0.0</td>\n",
              "      <td>0.0</td>\n",
              "      <td>0.0</td>\n",
              "      <td>0.0</td>\n",
              "      <td>0.0</td>\n",
              "      <td>0.0</td>\n",
              "      <td>0.0</td>\n",
              "      <td>0.0</td>\n",
              "      <td>0.0</td>\n",
              "      <td>0.0</td>\n",
              "      <td>0.0</td>\n",
              "      <td>...</td>\n",
              "      <td>0.0</td>\n",
              "      <td>0.0</td>\n",
              "      <td>0.0</td>\n",
              "      <td>0.0</td>\n",
              "      <td>0.0</td>\n",
              "      <td>0.0</td>\n",
              "      <td>0.0</td>\n",
              "      <td>0.0</td>\n",
              "      <td>1.0</td>\n",
              "      <td>0.0</td>\n",
              "      <td>0.0</td>\n",
              "      <td>0.0</td>\n",
              "      <td>0.0</td>\n",
              "      <td>0.0</td>\n",
              "      <td>0.0</td>\n",
              "      <td>0.0</td>\n",
              "      <td>0.0</td>\n",
              "      <td>0.0</td>\n",
              "      <td>0.0</td>\n",
              "      <td>0.0</td>\n",
              "      <td>0.0</td>\n",
              "      <td>0.0</td>\n",
              "      <td>0.0</td>\n",
              "      <td>0.0</td>\n",
              "      <td>0.0</td>\n",
              "      <td>0.0</td>\n",
              "      <td>0.0</td>\n",
              "      <td>0.0</td>\n",
              "      <td>0.0</td>\n",
              "      <td>0.0</td>\n",
              "      <td>0.0</td>\n",
              "      <td>0.0</td>\n",
              "      <td>0.0</td>\n",
              "      <td>0.0</td>\n",
              "      <td>0.0</td>\n",
              "      <td>0.0</td>\n",
              "      <td>0.0</td>\n",
              "      <td>1</td>\n",
              "      <td>I have tried all the curris from Mae Ploy excl...</td>\n",
              "      <td>Delicious</td>\n",
              "    </tr>\n",
              "    <tr>\n",
              "      <th>3</th>\n",
              "      <td>1.0</td>\n",
              "      <td>0.0</td>\n",
              "      <td>0.0</td>\n",
              "      <td>0.0</td>\n",
              "      <td>0.0</td>\n",
              "      <td>0.0</td>\n",
              "      <td>0.0</td>\n",
              "      <td>0.0</td>\n",
              "      <td>0.0</td>\n",
              "      <td>0.0</td>\n",
              "      <td>0.0</td>\n",
              "      <td>0.0</td>\n",
              "      <td>0.0</td>\n",
              "      <td>0.0</td>\n",
              "      <td>0.0</td>\n",
              "      <td>0.0</td>\n",
              "      <td>0.0</td>\n",
              "      <td>0.0</td>\n",
              "      <td>0.0</td>\n",
              "      <td>0.0</td>\n",
              "      <td>0.0</td>\n",
              "      <td>0.0</td>\n",
              "      <td>0.0</td>\n",
              "      <td>0.0</td>\n",
              "      <td>0.0</td>\n",
              "      <td>0.0</td>\n",
              "      <td>0.0</td>\n",
              "      <td>0.0</td>\n",
              "      <td>0.0</td>\n",
              "      <td>0.0</td>\n",
              "      <td>0.0</td>\n",
              "      <td>0.0</td>\n",
              "      <td>0.0</td>\n",
              "      <td>0.0</td>\n",
              "      <td>0.0</td>\n",
              "      <td>0.0</td>\n",
              "      <td>0.0</td>\n",
              "      <td>0.0</td>\n",
              "      <td>0.0</td>\n",
              "      <td>0.0</td>\n",
              "      <td>...</td>\n",
              "      <td>0.0</td>\n",
              "      <td>0.0</td>\n",
              "      <td>0.0</td>\n",
              "      <td>0.0</td>\n",
              "      <td>0.0</td>\n",
              "      <td>0.0</td>\n",
              "      <td>0.0</td>\n",
              "      <td>0.0</td>\n",
              "      <td>0.0</td>\n",
              "      <td>0.0</td>\n",
              "      <td>0.0</td>\n",
              "      <td>0.0</td>\n",
              "      <td>0.0</td>\n",
              "      <td>0.0</td>\n",
              "      <td>0.0</td>\n",
              "      <td>0.0</td>\n",
              "      <td>0.0</td>\n",
              "      <td>0.0</td>\n",
              "      <td>0.0</td>\n",
              "      <td>0.0</td>\n",
              "      <td>0.0</td>\n",
              "      <td>0.0</td>\n",
              "      <td>0.0</td>\n",
              "      <td>0.0</td>\n",
              "      <td>0.0</td>\n",
              "      <td>0.0</td>\n",
              "      <td>0.0</td>\n",
              "      <td>0.0</td>\n",
              "      <td>0.0</td>\n",
              "      <td>0.0</td>\n",
              "      <td>0.0</td>\n",
              "      <td>0.0</td>\n",
              "      <td>0.0</td>\n",
              "      <td>0.0</td>\n",
              "      <td>0.0</td>\n",
              "      <td>0.0</td>\n",
              "      <td>0.0</td>\n",
              "      <td>-1</td>\n",
              "      <td>This product is no where near natural  organic...</td>\n",
              "      <td>Not natural/organic at all</td>\n",
              "    </tr>\n",
              "    <tr>\n",
              "      <th>4</th>\n",
              "      <td>0.0</td>\n",
              "      <td>0.0</td>\n",
              "      <td>0.0</td>\n",
              "      <td>0.0</td>\n",
              "      <td>0.0</td>\n",
              "      <td>0.0</td>\n",
              "      <td>0.0</td>\n",
              "      <td>0.0</td>\n",
              "      <td>0.0</td>\n",
              "      <td>0.0</td>\n",
              "      <td>0.0</td>\n",
              "      <td>0.0</td>\n",
              "      <td>0.0</td>\n",
              "      <td>0.0</td>\n",
              "      <td>0.0</td>\n",
              "      <td>0.0</td>\n",
              "      <td>0.0</td>\n",
              "      <td>0.0</td>\n",
              "      <td>0.0</td>\n",
              "      <td>0.0</td>\n",
              "      <td>0.0</td>\n",
              "      <td>0.0</td>\n",
              "      <td>0.0</td>\n",
              "      <td>0.0</td>\n",
              "      <td>0.0</td>\n",
              "      <td>0.0</td>\n",
              "      <td>0.0</td>\n",
              "      <td>0.0</td>\n",
              "      <td>0.0</td>\n",
              "      <td>0.0</td>\n",
              "      <td>0.0</td>\n",
              "      <td>0.0</td>\n",
              "      <td>0.0</td>\n",
              "      <td>0.0</td>\n",
              "      <td>0.0</td>\n",
              "      <td>0.0</td>\n",
              "      <td>0.0</td>\n",
              "      <td>0.0</td>\n",
              "      <td>0.0</td>\n",
              "      <td>0.0</td>\n",
              "      <td>...</td>\n",
              "      <td>0.0</td>\n",
              "      <td>0.0</td>\n",
              "      <td>0.0</td>\n",
              "      <td>0.0</td>\n",
              "      <td>0.0</td>\n",
              "      <td>0.0</td>\n",
              "      <td>0.0</td>\n",
              "      <td>0.0</td>\n",
              "      <td>0.0</td>\n",
              "      <td>0.0</td>\n",
              "      <td>0.0</td>\n",
              "      <td>0.0</td>\n",
              "      <td>0.0</td>\n",
              "      <td>0.0</td>\n",
              "      <td>0.0</td>\n",
              "      <td>0.0</td>\n",
              "      <td>0.0</td>\n",
              "      <td>0.0</td>\n",
              "      <td>0.0</td>\n",
              "      <td>0.0</td>\n",
              "      <td>0.0</td>\n",
              "      <td>0.0</td>\n",
              "      <td>0.0</td>\n",
              "      <td>0.0</td>\n",
              "      <td>0.0</td>\n",
              "      <td>0.0</td>\n",
              "      <td>0.0</td>\n",
              "      <td>0.0</td>\n",
              "      <td>0.0</td>\n",
              "      <td>0.0</td>\n",
              "      <td>0.0</td>\n",
              "      <td>0.0</td>\n",
              "      <td>0.0</td>\n",
              "      <td>0.0</td>\n",
              "      <td>0.0</td>\n",
              "      <td>0.0</td>\n",
              "      <td>0.0</td>\n",
              "      <td>1</td>\n",
              "      <td>Theres a vague taste of apple cinnamon but mos...</td>\n",
              "      <td>They work well enough.</td>\n",
              "    </tr>\n",
              "  </tbody>\n",
              "</table>\n",
              "<p>5 rows × 13755 columns</p>\n",
              "</div>"
            ],
            "text/plain": [
              "     0  ...                                            summary\n",
              "0  0.0  ...                                          Not a fan\n",
              "1  1.0  ...  Thai curry is the way to go to add spice to an...\n",
              "2  0.0  ...                                          Delicious\n",
              "3  1.0  ...                         Not natural/organic at all\n",
              "4  0.0  ...                             They work well enough.\n",
              "\n",
              "[5 rows x 13755 columns]"
            ]
          },
          "metadata": {
            "tags": []
          },
          "execution_count": 95
        }
      ]
    },
    {
      "cell_type": "markdown",
      "metadata": {
        "id": "kOZtVJWloKIa",
        "colab_type": "text"
      },
      "source": [
        "## Split data into training, validation and test sets."
      ]
    },
    {
      "cell_type": "markdown",
      "metadata": {
        "id": "r8YPM64GoKIa",
        "colab_type": "text"
      },
      "source": [
        "Let's perform a train/validation/test split with 80% of the data in the training set, 10% of the data in the validation set, 10% test. We use `random_state = 1` so that everyone gets the same result."
      ]
    },
    {
      "cell_type": "code",
      "metadata": {
        "id": "1Jn9EY25oKIb",
        "colab_type": "code",
        "colab": {}
      },
      "source": [
        "train_data, test_data = train_test_split(product_data, test_size = 0.2, random_state = 1)\n",
        "validation_data, test_data = train_test_split(test_data, test_size = 0.5, random_state = 1)"
      ],
      "execution_count": 96,
      "outputs": []
    },
    {
      "cell_type": "markdown",
      "metadata": {
        "id": "hhb1vTHhoKIe",
        "colab_type": "text"
      },
      "source": [
        "## Baseline: Majority class prediction\n",
        "\n",
        "It is quite common to use the **majority class classifier** as the a baseline (or reference) model for comparison with your classifier model. The majority classifier model predicts the majority class for all data points. Given a classification problem with 2 classes, the majority class classifier has at least 50% accuracy.\n",
        "\n",
        "**Question 1:** What is the accuracy of the majority class classifer on the **validation_data**\n",
        "\n",
        "**Hint:** Pandas allows you to take the sum of a boolean series - true values are equal to 1, false values are equal 0."
      ]
    },
    {
      "cell_type": "code",
      "metadata": {
        "id": "TTKwMUT_k16x",
        "colab_type": "code",
        "colab": {
          "base_uri": "https://localhost:8080/",
          "height": 105
        },
        "outputId": "ab9c4f2b-d991-417f-e9c6-efb24fcb571f"
      },
      "source": [
        "import pandas as pd\n",
        "import numpy as np\n",
        "resultList = []\n",
        "\n",
        "for index, row in train_data.iterrows():\n",
        "  if (row['sentiment'] == -1):\n",
        "    resultList.append(1)\n",
        "  else:\n",
        "    resultList.append(0)\n",
        "\n",
        "print(resultList)\n",
        "sum=0\n",
        "for i in range(len(resultList)):\n",
        "  sum += resultList[i]\n",
        "\n",
        "print(len(resultList))\n",
        "print(sum) #674/1383 --> 0.48% accuracy, so pick -1 as prediction!\n",
        "#--- pick -1 as prediction\n",
        "print(sum/ len(resultList))"
      ],
      "execution_count": 97,
      "outputs": [
        {
          "output_type": "stream",
          "text": [
            "[1, 0, 1, 0, 0, 1, 1, 0, 0, 1, 0, 1, 0, 1, 0, 0, 1, 0, 1, 1, 0, 1, 1, 1, 1, 0, 0, 1, 0, 0, 0, 1, 1, 1, 0, 0, 1, 0, 0, 1, 1, 1, 1, 1, 1, 1, 0, 1, 0, 1, 1, 0, 0, 0, 0, 1, 1, 0, 0, 0, 1, 0, 1, 0, 0, 1, 1, 0, 1, 1, 0, 1, 0, 1, 1, 1, 1, 1, 0, 1, 0, 0, 1, 0, 1, 0, 0, 0, 1, 1, 0, 0, 1, 1, 0, 0, 0, 1, 0, 1, 1, 1, 0, 0, 0, 1, 0, 1, 0, 0, 1, 1, 0, 0, 1, 1, 1, 1, 0, 1, 0, 0, 1, 0, 1, 0, 0, 0, 0, 0, 0, 0, 1, 1, 0, 1, 0, 0, 1, 0, 0, 0, 1, 0, 1, 0, 1, 0, 0, 0, 1, 0, 0, 0, 0, 0, 1, 0, 1, 0, 1, 0, 1, 1, 1, 0, 0, 0, 0, 0, 0, 0, 1, 1, 1, 0, 1, 1, 1, 0, 1, 1, 0, 0, 0, 1, 1, 1, 1, 1, 0, 0, 0, 1, 0, 0, 1, 1, 1, 0, 0, 1, 1, 0, 0, 0, 0, 0, 1, 1, 0, 1, 0, 1, 0, 1, 1, 1, 1, 0, 0, 1, 0, 0, 1, 1, 1, 1, 0, 0, 1, 0, 0, 1, 1, 0, 0, 1, 1, 1, 1, 1, 0, 1, 0, 1, 0, 0, 1, 1, 1, 0, 0, 1, 1, 1, 0, 1, 0, 0, 1, 1, 0, 0, 1, 1, 0, 1, 1, 1, 1, 0, 1, 0, 0, 0, 1, 0, 0, 0, 1, 0, 1, 0, 1, 1, 1, 0, 1, 1, 0, 0, 1, 0, 0, 1, 0, 1, 0, 0, 1, 1, 1, 1, 1, 0, 1, 1, 1, 0, 0, 1, 0, 1, 0, 0, 0, 1, 1, 1, 1, 1, 0, 0, 0, 0, 1, 1, 1, 0, 1, 1, 0, 0, 1, 0, 1, 1, 1, 1, 1, 0, 1, 0, 1, 1, 1, 0, 0, 0, 1, 1, 1, 0, 0, 0, 0, 0, 0, 1, 1, 1, 1, 1, 1, 1, 1, 1, 1, 1, 1, 0, 0, 1, 1, 0, 1, 1, 1, 0, 0, 1, 1, 1, 1, 1, 0, 1, 0, 1, 0, 1, 1, 1, 0, 0, 0, 1, 0, 0, 0, 0, 0, 1, 0, 1, 1, 1, 0, 1, 1, 0, 0, 0, 1, 1, 0, 1, 0, 0, 1, 0, 1, 1, 1, 1, 0, 0, 1, 1, 1, 1, 1, 1, 0, 1, 1, 1, 1, 0, 0, 1, 0, 1, 0, 1, 0, 0, 0, 1, 0, 1, 0, 1, 0, 1, 0, 0, 1, 0, 0, 1, 0, 0, 1, 0, 0, 0, 0, 0, 1, 0, 1, 0, 0, 1, 1, 1, 1, 1, 1, 1, 0, 1, 0, 1, 0, 1, 1, 1, 0, 1, 1, 1, 1, 1, 0, 1, 1, 0, 1, 0, 0, 0, 0, 1, 0, 1, 1, 1, 0, 0, 0, 0, 0, 0, 1, 0, 1, 1, 1, 0, 0, 1, 0, 0, 1, 1, 1, 1, 1, 0, 1, 0, 0, 0, 0, 0, 0, 0, 0, 1, 1, 1, 0, 0, 1, 1, 1, 1, 1, 0, 1, 1, 0, 0, 1, 1, 1, 0, 0, 1, 1, 1, 1, 0, 1, 1, 1, 1, 0, 0, 0, 1, 1, 1, 1, 0, 1, 0, 1, 1, 0, 1, 0, 0, 0, 1, 0, 1, 0, 1, 0, 1, 0, 0, 0, 0, 0, 1, 1, 0, 0, 1, 1, 0, 1, 1, 0, 0, 0, 0, 1, 1, 0, 1, 0, 0, 1, 1, 1, 1, 0, 1, 1, 0, 0, 0, 0, 1, 0, 1, 0, 1, 0, 1, 0, 1, 0, 1, 0, 1, 0, 0, 1, 0, 1, 1, 0, 1, 0, 1, 0, 0, 0, 1, 1, 1, 0, 1, 1, 0, 0, 0, 1, 0, 0, 0, 1, 1, 1, 0, 1, 1, 1, 1, 1, 1, 0, 1, 0, 0, 1, 1, 0, 0, 1, 1, 0, 1, 1, 1, 0, 1, 1, 1, 1, 1, 1, 1, 1, 1, 0, 0, 1, 1, 1, 1, 0, 1, 1, 1, 0, 1, 1, 1, 0, 0, 0, 0, 0, 1, 0, 0, 1, 0, 1, 1, 1, 0, 1, 0, 1, 1, 0, 0, 0, 1, 0, 1, 1, 1, 1, 1, 0, 0, 0, 0, 1, 1, 0, 0, 0, 0, 1, 0, 1, 1, 0, 1, 0, 0, 1, 1, 1, 1, 1, 1, 1, 0, 0, 0, 1, 1, 0, 1, 0, 0, 1, 1, 0, 0, 0, 1, 0, 0, 1, 0, 0, 1, 0, 1, 0, 1, 0, 0, 1, 0, 0, 1, 1, 0, 1, 1, 0, 0, 0, 1, 1, 0, 1, 0, 0, 0, 1, 1, 0, 1, 1, 0, 1, 1, 0, 1, 0, 1, 1, 1, 0, 1, 1, 1, 1, 1, 0, 0, 1, 0, 1, 0, 1, 0, 0, 0, 0, 0, 0, 0, 1, 1, 1, 0, 0, 0, 0, 1, 1, 0, 1, 0, 1, 0, 0, 1, 1, 0, 1, 1, 1, 1, 1, 0, 0, 1, 1, 1, 0, 0, 0, 1, 0, 0, 1, 0, 0, 1, 0, 1, 1, 1, 1, 1, 0, 0, 0, 1, 1, 1, 0, 0, 0, 1, 1, 0, 0, 1, 0, 0, 0, 0, 1, 1, 1, 0, 0, 1, 1, 1, 1, 0, 1, 1, 1, 0, 1, 1, 0, 1, 0, 1, 0, 1, 1, 1, 0, 1, 0, 0, 0, 0, 0, 1, 0, 1, 0, 1, 1, 0, 1, 0, 0, 0, 1, 1, 1, 0, 0, 0, 0, 1, 0, 0, 0, 0, 0, 1, 0, 0, 0, 0, 1, 0, 0, 0, 1, 0, 1, 1, 0, 1, 1, 0, 0, 0, 0, 1, 1, 1, 0, 1, 0, 1, 1, 0, 1, 0, 0, 1, 0, 1, 1, 0, 1, 0, 1, 1, 0, 0, 0, 0, 1, 0, 1, 1, 0, 0, 0, 0, 1, 0, 1, 0, 1, 1, 1, 1, 1, 1, 0, 0, 1, 1, 0, 0, 1, 0, 1, 0, 0, 1, 1, 1, 1, 0, 0, 1, 0, 1, 0, 0, 1, 0, 0, 1, 0, 1, 1, 0, 0, 0, 0, 0, 0, 0, 1, 0, 0, 1, 0, 0, 1, 1, 1, 1, 1, 0, 1, 0, 1, 1, 1, 0, 0, 0, 0, 1, 0, 1, 1, 1, 0, 0, 0, 1, 0, 0, 1, 0, 0, 1, 1, 1, 1, 0, 0, 1, 1, 1, 0, 1, 1, 0, 1, 0, 0, 1, 0, 1, 1, 1, 1, 1, 0, 1, 0, 0, 0, 0, 1, 0, 0, 0, 0, 0, 0, 0, 0, 0, 0, 1, 1, 0, 0, 1, 1, 1, 0, 0, 0, 1, 1, 1, 1, 1, 0, 1, 0, 1, 0, 0, 1, 1, 0, 0, 0, 0, 0, 0, 0, 0, 0, 0, 1, 0, 1, 0, 0, 0, 0, 1, 1, 1, 1, 0, 1, 0, 1, 0, 0, 1, 1, 1, 1, 1, 0, 0, 0, 1, 0, 1, 1, 1, 1, 1, 0, 1, 0, 1, 0, 0, 1, 1, 0, 0, 1, 1, 1, 1, 0, 1, 1, 0, 0, 1, 0, 0, 1, 0, 0, 0, 1, 1, 0, 0, 1, 0, 1, 1, 0, 0, 1, 0, 1, 0, 1, 1, 0, 1, 1, 0, 0, 0, 1, 1, 1, 0, 1, 0, 0, 0, 0, 1, 1, 1, 1, 1, 0, 0, 0, 0, 0, 0, 1, 1, 0, 0, 1, 0, 1, 0, 1, 0, 1, 0, 1, 1, 0, 0, 1, 1, 0, 0, 0, 0, 1, 0, 1, 0, 0, 0, 1, 1, 1, 0, 1, 1, 1, 1, 0, 1, 0, 0, 1, 0, 1, 1, 0, 1, 1, 1, 1, 1, 0, 0, 1, 1, 1, 0, 0, 0, 0, 0, 1, 0, 0, 1, 0, 0, 0, 0, 1, 1, 0, 0, 1, 0, 1, 0, 1, 1, 1, 1, 1, 1, 1, 1, 1, 1, 1, 1, 1, 0, 1, 0, 1, 1, 1, 0, 1, 0, 1, 0, 1, 0, 0, 0, 1, 0, 1, 0, 1, 1, 0]\n",
            "1383\n",
            "709\n",
            "0.5126536514822849\n"
          ],
          "name": "stdout"
        }
      ]
    },
    {
      "cell_type": "code",
      "metadata": {
        "id": "6n-iXTI1qrP-",
        "colab_type": "code",
        "colab": {
          "base_uri": "https://localhost:8080/",
          "height": 105
        },
        "outputId": "3f3108a5-51d8-4381-f31b-b069797fe955"
      },
      "source": [
        "resultList = []\n",
        "\n",
        "for index, row in validation_data.iterrows():\n",
        "  if (row['sentiment'] == -1):\n",
        "    resultList.append(1)\n",
        "  else:\n",
        "    resultList.append(0)\n",
        " \n",
        "print(resultList)\n",
        "sum=0\n",
        "for i in range(len(resultList)):\n",
        "  sum += resultList[i]\n",
        "\n",
        "print(len(resultList))\n",
        "print(sum)\n",
        "print(sum/ len(resultList))"
      ],
      "execution_count": 98,
      "outputs": [
        {
          "output_type": "stream",
          "text": [
            "[1, 1, 1, 1, 1, 0, 0, 0, 0, 0, 1, 0, 1, 0, 1, 0, 1, 0, 1, 1, 0, 1, 0, 1, 1, 1, 0, 0, 0, 1, 1, 1, 1, 0, 1, 1, 0, 0, 1, 0, 1, 1, 1, 1, 1, 1, 1, 0, 0, 1, 0, 1, 0, 1, 1, 0, 1, 0, 1, 0, 0, 1, 0, 0, 0, 1, 0, 0, 0, 1, 0, 0, 0, 0, 1, 1, 1, 1, 0, 0, 0, 0, 1, 0, 0, 1, 0, 1, 1, 0, 0, 1, 0, 0, 0, 1, 0, 0, 1, 0, 1, 1, 1, 1, 0, 1, 1, 1, 1, 0, 1, 1, 1, 0, 1, 1, 1, 0, 0, 0, 1, 0, 1, 0, 0, 0, 0, 0, 1, 1, 1, 0, 1, 0, 1, 1, 1, 1, 1, 1, 0, 0, 0, 1, 0, 1, 1, 0, 0, 0, 1, 0, 1, 1, 0, 1, 0, 0, 1, 1, 0, 0, 0, 0, 1, 0, 0, 1, 1, 0, 0, 1, 1]\n",
            "173\n",
            "89\n",
            "0.5144508670520231\n"
          ],
          "name": "stdout"
        }
      ]
    },
    {
      "cell_type": "markdown",
      "metadata": {
        "id": "Vq_Tr_NNoKIh",
        "colab_type": "text"
      },
      "source": [
        "# Train a sentiment classifier with logistic regression\n",
        "\n",
        "We will now use logistic regression to create a sentiment classifier on the training data. This model will use the column **word_count** as a feature and the column **sentiment** as the target. We will set **no regularization penalty** and set `random_state = 1` to get the same answer as everyone else. sklearn.LogisticRegression (documentation here) uses a value named c for the regularization hyper-parameter where  𝑐=1𝜆 . This means a really large value of c corresponds to a very small  𝜆 .\n",
        "\n",
        "**Note:** This line may take a few minutes."
      ]
    },
    {
      "cell_type": "code",
      "metadata": {
        "id": "c2j7sk5ToKIi",
        "colab_type": "code",
        "colab": {
          "base_uri": "https://localhost:8080/",
          "height": 102
        },
        "outputId": "b51c1163-c793-4e44-8845-c31ad29e8e59"
      },
      "source": [
        "features = list(train_data.columns)\n",
        "features.remove('sentiment')\n",
        "features.remove('review_clean')\n",
        "features.remove('summary')\n",
        "\n",
        "# C = 1/Lambda. Setting C to a really high value is the same as setting lambda = 0\n",
        "sentiment_model = LogisticRegression(penalty='l2', random_state = 1, C = 1e23)\n",
        "sentiment_model.fit(train_data[features], train_data['sentiment'])"
      ],
      "execution_count": 99,
      "outputs": [
        {
          "output_type": "execute_result",
          "data": {
            "text/plain": [
              "LogisticRegression(C=1e+23, class_weight=None, dual=False, fit_intercept=True,\n",
              "                   intercept_scaling=1, l1_ratio=None, max_iter=100,\n",
              "                   multi_class='auto', n_jobs=None, penalty='l2',\n",
              "                   random_state=1, solver='lbfgs', tol=0.0001, verbose=0,\n",
              "                   warm_start=False)"
            ]
          },
          "metadata": {
            "tags": []
          },
          "execution_count": 99
        }
      ]
    },
    {
      "cell_type": "markdown",
      "metadata": {
        "id": "y9_L_LQh_8Lh",
        "colab_type": "text"
      },
      "source": [
        "Let's look at some of the coefficients and the corresponding words. The weights are stored in a `coef_` object: "
      ]
    },
    {
      "cell_type": "code",
      "metadata": {
        "id": "ncVfVHa3ABjo",
        "colab_type": "code",
        "colab": {}
      },
      "source": [
        "weights = sentiment_model.coef_[0] "
      ],
      "execution_count": 100,
      "outputs": []
    },
    {
      "cell_type": "markdown",
      "metadata": {
        "id": "gw4XzTba_O2c",
        "colab_type": "text"
      },
      "source": [
        "The words are stored in the Vectorizer object:\n"
      ]
    },
    {
      "cell_type": "code",
      "metadata": {
        "id": "T9yXlJEwAfLi",
        "colab_type": "code",
        "colab": {}
      },
      "source": [
        "feature_names = dictVectorizer.get_feature_names()"
      ],
      "execution_count": 101,
      "outputs": []
    },
    {
      "cell_type": "markdown",
      "metadata": {
        "id": "ey5qxhT_oKIr",
        "colab_type": "text"
      },
      "source": [
        "\n",
        "\n",
        "\n",
        "**Question 2:** Find the word with the lowest weight and enter the number in Gradescope. Explore some of the words with high and low weights: do they make sense."
      ]
    },
    {
      "cell_type": "code",
      "metadata": {
        "id": "ugh01Ke9wLGR",
        "colab_type": "code",
        "colab": {
          "base_uri": "https://localhost:8080/",
          "height": 136
        },
        "outputId": "71331c77-152d-4fc6-f846-3e4354e095c7"
      },
      "source": [
        "# TODO\n",
        "weights_df = pd.DataFrame(weights)\n",
        "print(len(weights_df))\n",
        "index = weights_df.idxmin()\n",
        "print(\"index= \" )\n",
        "print(index)\n",
        "#print(weights)\n",
        "row = weights_df.loc[index]\n",
        "print(\"row= \" ) #Word number = 2501, number = -19.031769\n",
        "print(row)\n",
        "#weights_df\n",
        "#word_count_dict"
      ],
      "execution_count": 102,
      "outputs": [
        {
          "output_type": "stream",
          "text": [
            "13752\n",
            "index= \n",
            "0    2501\n",
            "dtype: int64\n",
            "row= \n",
            "              0\n",
            "2501 -19.031769\n"
          ],
          "name": "stdout"
        }
      ]
    },
    {
      "cell_type": "code",
      "metadata": {
        "id": "KpnlDngnd6P7",
        "colab_type": "code",
        "colab": {
          "base_uri": "https://localhost:8080/",
          "height": 85
        },
        "outputId": "21777438-b7ec-415e-980f-eb1ae5d32f31"
      },
      "source": [
        "len(feature_names) #this is the numwords\n",
        "feature_names_df = pd.DataFrame(feature_names)\n",
        "print( feature_names_df.loc[2501]) ### == Not.  \n",
        "print( feature_names_df.loc[2502])"
      ],
      "execution_count": 103,
      "outputs": [
        {
          "output_type": "stream",
          "text": [
            "0    Not\n",
            "Name: 2501, dtype: object\n",
            "0    Note\n",
            "Name: 2502, dtype: object\n"
          ],
          "name": "stdout"
        }
      ]
    },
    {
      "cell_type": "markdown",
      "metadata": {
        "id": "pbGv2CqIoKIs",
        "colab_type": "text"
      },
      "source": [
        "## Making predictions with logistic regression\n",
        "\n",
        "Now that a model is trained, we can make predictions on the **validation data**. In this section, we will explore this in the context of 3 examples in the validation dataset.  We refer to this set of 3 examples as the **sample_data**."
      ]
    },
    {
      "cell_type": "code",
      "metadata": {
        "id": "_TOKLqPKoKIt",
        "colab_type": "code",
        "colab": {
          "base_uri": "https://localhost:8080/",
          "height": 378
        },
        "outputId": "149123f9-c01d-4c91-fab3-feb5ddea5aef"
      },
      "source": [
        "sample_data = validation_data[10:13]\n",
        "sample_data"
      ],
      "execution_count": 104,
      "outputs": [
        {
          "output_type": "execute_result",
          "data": {
            "text/html": [
              "<div>\n",
              "<style scoped>\n",
              "    .dataframe tbody tr th:only-of-type {\n",
              "        vertical-align: middle;\n",
              "    }\n",
              "\n",
              "    .dataframe tbody tr th {\n",
              "        vertical-align: top;\n",
              "    }\n",
              "\n",
              "    .dataframe thead th {\n",
              "        text-align: right;\n",
              "    }\n",
              "</style>\n",
              "<table border=\"1\" class=\"dataframe\">\n",
              "  <thead>\n",
              "    <tr style=\"text-align: right;\">\n",
              "      <th></th>\n",
              "      <th>0</th>\n",
              "      <th>1</th>\n",
              "      <th>2</th>\n",
              "      <th>3</th>\n",
              "      <th>4</th>\n",
              "      <th>5</th>\n",
              "      <th>6</th>\n",
              "      <th>7</th>\n",
              "      <th>8</th>\n",
              "      <th>9</th>\n",
              "      <th>10</th>\n",
              "      <th>11</th>\n",
              "      <th>12</th>\n",
              "      <th>13</th>\n",
              "      <th>14</th>\n",
              "      <th>15</th>\n",
              "      <th>16</th>\n",
              "      <th>17</th>\n",
              "      <th>18</th>\n",
              "      <th>19</th>\n",
              "      <th>20</th>\n",
              "      <th>21</th>\n",
              "      <th>22</th>\n",
              "      <th>23</th>\n",
              "      <th>24</th>\n",
              "      <th>25</th>\n",
              "      <th>26</th>\n",
              "      <th>27</th>\n",
              "      <th>28</th>\n",
              "      <th>29</th>\n",
              "      <th>30</th>\n",
              "      <th>31</th>\n",
              "      <th>32</th>\n",
              "      <th>33</th>\n",
              "      <th>34</th>\n",
              "      <th>35</th>\n",
              "      <th>36</th>\n",
              "      <th>37</th>\n",
              "      <th>38</th>\n",
              "      <th>39</th>\n",
              "      <th>...</th>\n",
              "      <th>13715</th>\n",
              "      <th>13716</th>\n",
              "      <th>13717</th>\n",
              "      <th>13718</th>\n",
              "      <th>13719</th>\n",
              "      <th>13720</th>\n",
              "      <th>13721</th>\n",
              "      <th>13722</th>\n",
              "      <th>13723</th>\n",
              "      <th>13724</th>\n",
              "      <th>13725</th>\n",
              "      <th>13726</th>\n",
              "      <th>13727</th>\n",
              "      <th>13728</th>\n",
              "      <th>13729</th>\n",
              "      <th>13730</th>\n",
              "      <th>13731</th>\n",
              "      <th>13732</th>\n",
              "      <th>13733</th>\n",
              "      <th>13734</th>\n",
              "      <th>13735</th>\n",
              "      <th>13736</th>\n",
              "      <th>13737</th>\n",
              "      <th>13738</th>\n",
              "      <th>13739</th>\n",
              "      <th>13740</th>\n",
              "      <th>13741</th>\n",
              "      <th>13742</th>\n",
              "      <th>13743</th>\n",
              "      <th>13744</th>\n",
              "      <th>13745</th>\n",
              "      <th>13746</th>\n",
              "      <th>13747</th>\n",
              "      <th>13748</th>\n",
              "      <th>13749</th>\n",
              "      <th>13750</th>\n",
              "      <th>13751</th>\n",
              "      <th>sentiment</th>\n",
              "      <th>review_clean</th>\n",
              "      <th>summary</th>\n",
              "    </tr>\n",
              "  </thead>\n",
              "  <tbody>\n",
              "    <tr>\n",
              "      <th>60</th>\n",
              "      <td>3.0</td>\n",
              "      <td>0.0</td>\n",
              "      <td>0.0</td>\n",
              "      <td>0.0</td>\n",
              "      <td>0.0</td>\n",
              "      <td>0.0</td>\n",
              "      <td>0.0</td>\n",
              "      <td>0.0</td>\n",
              "      <td>0.0</td>\n",
              "      <td>0.0</td>\n",
              "      <td>0.0</td>\n",
              "      <td>0.0</td>\n",
              "      <td>0.0</td>\n",
              "      <td>0.0</td>\n",
              "      <td>0.0</td>\n",
              "      <td>0.0</td>\n",
              "      <td>0.0</td>\n",
              "      <td>0.0</td>\n",
              "      <td>0.0</td>\n",
              "      <td>0.0</td>\n",
              "      <td>0.0</td>\n",
              "      <td>0.0</td>\n",
              "      <td>0.0</td>\n",
              "      <td>0.0</td>\n",
              "      <td>0.0</td>\n",
              "      <td>0.0</td>\n",
              "      <td>0.0</td>\n",
              "      <td>0.0</td>\n",
              "      <td>0.0</td>\n",
              "      <td>0.0</td>\n",
              "      <td>0.0</td>\n",
              "      <td>0.0</td>\n",
              "      <td>0.0</td>\n",
              "      <td>0.0</td>\n",
              "      <td>0.0</td>\n",
              "      <td>0.0</td>\n",
              "      <td>0.0</td>\n",
              "      <td>0.0</td>\n",
              "      <td>0.0</td>\n",
              "      <td>0.0</td>\n",
              "      <td>...</td>\n",
              "      <td>0.0</td>\n",
              "      <td>0.0</td>\n",
              "      <td>0.0</td>\n",
              "      <td>0.0</td>\n",
              "      <td>0.0</td>\n",
              "      <td>0.0</td>\n",
              "      <td>0.0</td>\n",
              "      <td>0.0</td>\n",
              "      <td>0.0</td>\n",
              "      <td>0.0</td>\n",
              "      <td>0.0</td>\n",
              "      <td>0.0</td>\n",
              "      <td>0.0</td>\n",
              "      <td>0.0</td>\n",
              "      <td>0.0</td>\n",
              "      <td>0.0</td>\n",
              "      <td>0.0</td>\n",
              "      <td>0.0</td>\n",
              "      <td>0.0</td>\n",
              "      <td>0.0</td>\n",
              "      <td>0.0</td>\n",
              "      <td>0.0</td>\n",
              "      <td>0.0</td>\n",
              "      <td>0.0</td>\n",
              "      <td>0.0</td>\n",
              "      <td>0.0</td>\n",
              "      <td>0.0</td>\n",
              "      <td>0.0</td>\n",
              "      <td>0.0</td>\n",
              "      <td>0.0</td>\n",
              "      <td>0.0</td>\n",
              "      <td>0.0</td>\n",
              "      <td>0.0</td>\n",
              "      <td>0.0</td>\n",
              "      <td>0.0</td>\n",
              "      <td>0.0</td>\n",
              "      <td>0.0</td>\n",
              "      <td>-1</td>\n",
              "      <td>When I was incarcerated in a Mexican prison th...</td>\n",
              "      <td>taste is awful</td>\n",
              "    </tr>\n",
              "    <tr>\n",
              "      <th>1557</th>\n",
              "      <td>0.0</td>\n",
              "      <td>0.0</td>\n",
              "      <td>0.0</td>\n",
              "      <td>0.0</td>\n",
              "      <td>0.0</td>\n",
              "      <td>0.0</td>\n",
              "      <td>0.0</td>\n",
              "      <td>0.0</td>\n",
              "      <td>0.0</td>\n",
              "      <td>0.0</td>\n",
              "      <td>0.0</td>\n",
              "      <td>0.0</td>\n",
              "      <td>0.0</td>\n",
              "      <td>0.0</td>\n",
              "      <td>0.0</td>\n",
              "      <td>0.0</td>\n",
              "      <td>0.0</td>\n",
              "      <td>0.0</td>\n",
              "      <td>0.0</td>\n",
              "      <td>0.0</td>\n",
              "      <td>0.0</td>\n",
              "      <td>0.0</td>\n",
              "      <td>0.0</td>\n",
              "      <td>0.0</td>\n",
              "      <td>0.0</td>\n",
              "      <td>0.0</td>\n",
              "      <td>0.0</td>\n",
              "      <td>0.0</td>\n",
              "      <td>0.0</td>\n",
              "      <td>0.0</td>\n",
              "      <td>0.0</td>\n",
              "      <td>0.0</td>\n",
              "      <td>0.0</td>\n",
              "      <td>0.0</td>\n",
              "      <td>0.0</td>\n",
              "      <td>0.0</td>\n",
              "      <td>0.0</td>\n",
              "      <td>0.0</td>\n",
              "      <td>0.0</td>\n",
              "      <td>0.0</td>\n",
              "      <td>...</td>\n",
              "      <td>0.0</td>\n",
              "      <td>0.0</td>\n",
              "      <td>0.0</td>\n",
              "      <td>0.0</td>\n",
              "      <td>0.0</td>\n",
              "      <td>0.0</td>\n",
              "      <td>0.0</td>\n",
              "      <td>0.0</td>\n",
              "      <td>0.0</td>\n",
              "      <td>0.0</td>\n",
              "      <td>0.0</td>\n",
              "      <td>0.0</td>\n",
              "      <td>0.0</td>\n",
              "      <td>0.0</td>\n",
              "      <td>0.0</td>\n",
              "      <td>0.0</td>\n",
              "      <td>0.0</td>\n",
              "      <td>0.0</td>\n",
              "      <td>0.0</td>\n",
              "      <td>0.0</td>\n",
              "      <td>0.0</td>\n",
              "      <td>0.0</td>\n",
              "      <td>0.0</td>\n",
              "      <td>0.0</td>\n",
              "      <td>0.0</td>\n",
              "      <td>0.0</td>\n",
              "      <td>0.0</td>\n",
              "      <td>0.0</td>\n",
              "      <td>0.0</td>\n",
              "      <td>0.0</td>\n",
              "      <td>0.0</td>\n",
              "      <td>0.0</td>\n",
              "      <td>0.0</td>\n",
              "      <td>0.0</td>\n",
              "      <td>0.0</td>\n",
              "      <td>0.0</td>\n",
              "      <td>0.0</td>\n",
              "      <td>1</td>\n",
              "      <td>a good buy for walnut piecesA known brand name...</td>\n",
              "      <td>a good buy fo walnut pieces...</td>\n",
              "    </tr>\n",
              "    <tr>\n",
              "      <th>733</th>\n",
              "      <td>3.0</td>\n",
              "      <td>0.0</td>\n",
              "      <td>0.0</td>\n",
              "      <td>0.0</td>\n",
              "      <td>0.0</td>\n",
              "      <td>0.0</td>\n",
              "      <td>0.0</td>\n",
              "      <td>0.0</td>\n",
              "      <td>0.0</td>\n",
              "      <td>0.0</td>\n",
              "      <td>0.0</td>\n",
              "      <td>0.0</td>\n",
              "      <td>0.0</td>\n",
              "      <td>0.0</td>\n",
              "      <td>0.0</td>\n",
              "      <td>0.0</td>\n",
              "      <td>0.0</td>\n",
              "      <td>0.0</td>\n",
              "      <td>0.0</td>\n",
              "      <td>0.0</td>\n",
              "      <td>0.0</td>\n",
              "      <td>0.0</td>\n",
              "      <td>0.0</td>\n",
              "      <td>0.0</td>\n",
              "      <td>0.0</td>\n",
              "      <td>0.0</td>\n",
              "      <td>0.0</td>\n",
              "      <td>0.0</td>\n",
              "      <td>0.0</td>\n",
              "      <td>0.0</td>\n",
              "      <td>0.0</td>\n",
              "      <td>0.0</td>\n",
              "      <td>0.0</td>\n",
              "      <td>0.0</td>\n",
              "      <td>0.0</td>\n",
              "      <td>0.0</td>\n",
              "      <td>0.0</td>\n",
              "      <td>0.0</td>\n",
              "      <td>0.0</td>\n",
              "      <td>0.0</td>\n",
              "      <td>...</td>\n",
              "      <td>0.0</td>\n",
              "      <td>0.0</td>\n",
              "      <td>0.0</td>\n",
              "      <td>0.0</td>\n",
              "      <td>0.0</td>\n",
              "      <td>0.0</td>\n",
              "      <td>0.0</td>\n",
              "      <td>0.0</td>\n",
              "      <td>1.0</td>\n",
              "      <td>0.0</td>\n",
              "      <td>1.0</td>\n",
              "      <td>0.0</td>\n",
              "      <td>0.0</td>\n",
              "      <td>0.0</td>\n",
              "      <td>0.0</td>\n",
              "      <td>0.0</td>\n",
              "      <td>0.0</td>\n",
              "      <td>0.0</td>\n",
              "      <td>0.0</td>\n",
              "      <td>0.0</td>\n",
              "      <td>0.0</td>\n",
              "      <td>0.0</td>\n",
              "      <td>0.0</td>\n",
              "      <td>0.0</td>\n",
              "      <td>0.0</td>\n",
              "      <td>0.0</td>\n",
              "      <td>0.0</td>\n",
              "      <td>0.0</td>\n",
              "      <td>0.0</td>\n",
              "      <td>0.0</td>\n",
              "      <td>0.0</td>\n",
              "      <td>0.0</td>\n",
              "      <td>0.0</td>\n",
              "      <td>0.0</td>\n",
              "      <td>0.0</td>\n",
              "      <td>0.0</td>\n",
              "      <td>0.0</td>\n",
              "      <td>-1</td>\n",
              "      <td>Theres a lot of talk about echinacea being a l...</td>\n",
              "      <td>There Ought To Be No \"U\" (or \"K\") in Yogi</td>\n",
              "    </tr>\n",
              "  </tbody>\n",
              "</table>\n",
              "<p>3 rows × 13755 columns</p>\n",
              "</div>"
            ],
            "text/plain": [
              "        0  ...                                    summary\n",
              "60    3.0  ...                             taste is awful\n",
              "1557  0.0  ...             a good buy fo walnut pieces...\n",
              "733   3.0  ...  There Ought To Be No \"U\" (or \"K\") in Yogi\n",
              "\n",
              "[3 rows x 13755 columns]"
            ]
          },
          "metadata": {
            "tags": []
          },
          "execution_count": 104
        }
      ]
    },
    {
      "cell_type": "markdown",
      "metadata": {
        "id": "KWh2npR2oKIv",
        "colab_type": "text"
      },
      "source": [
        "### Predicting sentiment\n"
      ]
    },
    {
      "cell_type": "code",
      "metadata": {
        "id": "mIRFoX8XoKIv",
        "colab_type": "code",
        "colab": {
          "base_uri": "https://localhost:8080/",
          "height": 102
        },
        "outputId": "af680252-73d8-41ac-cb2e-b980367511e0"
      },
      "source": [
        "print (\"Probability predictions on the sample data:\")\n",
        "print('Negative Sentiment  Positive Sentiment')\n",
        "print(sentiment_model.predict_proba(sample_data[features]))"
      ],
      "execution_count": 105,
      "outputs": [
        {
          "output_type": "stream",
          "text": [
            "Probability predictions on the sample data:\n",
            "Negative Sentiment  Positive Sentiment\n",
            "[[1.00000000e+00 2.67447043e-21]\n",
            " [4.21884749e-15 1.00000000e+00]\n",
            " [0.00000000e+00 1.00000000e+00]]\n"
          ],
          "name": "stdout"
        }
      ]
    },
    {
      "cell_type": "code",
      "metadata": {
        "id": "h06O0-eIoKIx",
        "colab_type": "code",
        "colab": {
          "base_uri": "https://localhost:8080/",
          "height": 34
        },
        "outputId": "2aea4c49-2526-4b70-fed8-b1ae1359e69d"
      },
      "source": [
        "print(sentiment_model.predict(sample_data[features]))"
      ],
      "execution_count": 106,
      "outputs": [
        {
          "output_type": "stream",
          "text": [
            "[-1  1  1]\n"
          ],
          "name": "stdout"
        }
      ]
    },
    {
      "cell_type": "markdown",
      "metadata": {
        "id": "78wbCaipoKIy",
        "colab_type": "text"
      },
      "source": [
        "# Find the most positive (and negative) review"
      ]
    },
    {
      "cell_type": "markdown",
      "metadata": {
        "id": "Sf95GN7qoKIz",
        "colab_type": "text"
      },
      "source": [
        "We now turn to examining the full **validation_data** dataset <span style=\"color:red\">(not sample_data)</span>, , and use `sklearn` to form predictions on all of the data points for faster performance.\n",
        "\n",
        "Using the `sentiment_model`, find review/reviews in the **validation_data** with the **highest probability** of being classified as a **positive review**. We refer to this as the \"most positive review.\" Record the **first** occurrence of such a review on Gradescope. \n",
        "\n",
        "Hint: Once you know the index of the most positive/negative reviews, use the .iloc[] accessor on the DataFrame to get that row and find its name."
      ]
    },
    {
      "cell_type": "code",
      "metadata": {
        "id": "dNzII4KgoKI0",
        "colab_type": "code",
        "colab": {
          "base_uri": "https://localhost:8080/",
          "height": 612
        },
        "outputId": "603b5797-c398-469c-8e8b-6d06f8c5bf55"
      },
      "source": [
        "# TODO\n",
        "#from sklearn.linear_model import LogisticRegression--package we want.\n",
        "\n",
        "validation_predictions = sentiment_model.predict_proba(validation_data[features])\n",
        "validation_predictions_df = pd.DataFrame(validation_predictions)\n",
        "print(validation_predictions_df)\n",
        "print(validation_predictions_df.head(10))\n",
        "\n",
        "indexHighestNeg = validation_predictions_df[0].idxmax()\n",
        "indexHighestPos = validation_predictions_df[1].idxmax()\n",
        "#row = lasso_data.loc[index]\n",
        "rowNeg = validation_predictions_df.loc[indexHighestNeg][0]\n",
        "rowPos = validation_predictions_df.loc[indexHighestPos][1]\n",
        "print(rowNeg)\n",
        "print(rowPos) #The highest val is 1 for both --- or, 1.000000e+00.\n",
        "# We can see that first occ for neg is index 0, and pos is 4.\n",
        "\n",
        "print(validation_predictions_df.loc[0][0])\n",
        "print(validation_predictions_df.loc[1][0])  # We can see that therfore, even though both \n",
        "#0 and 1 indices in neg review both appear the same when printed, they do get rounded,\n",
        "#so 0  is in fact NOT the highest neg review. -- and the function actually was giving us the \n",
        "#highest\n",
        "#therfore, choose indices ---- 0 and 4 as returned by func.\n",
        "\n",
        "\n",
        "rowNeg = validation_predictions_df.loc[indexHighestNeg]\n",
        "print(rowNeg) # NEG index == 1. \n",
        "rowPos = validation_predictions_df.loc[indexHighestPos]\n",
        "print(rowPos) # POS index == 5"
      ],
      "execution_count": 107,
      "outputs": [
        {
          "output_type": "stream",
          "text": [
            "                0             1\n",
            "0    1.000000e+00  1.405033e-12\n",
            "1    1.000000e+00  8.389398e-39\n",
            "2    1.000000e+00  1.582556e-24\n",
            "3    9.999854e-01  1.457399e-05\n",
            "4    8.205214e-12  1.000000e+00\n",
            "..            ...           ...\n",
            "168  1.000000e+00  1.228017e-65\n",
            "169  1.000000e+00  1.331733e-35\n",
            "170  2.430017e-06  9.999976e-01\n",
            "171  1.000000e+00  3.992726e-09\n",
            "172  1.000000e+00  2.793271e-32\n",
            "\n",
            "[173 rows x 2 columns]\n",
            "              0             1\n",
            "0  1.000000e+00  1.405033e-12\n",
            "1  1.000000e+00  8.389398e-39\n",
            "2  1.000000e+00  1.582556e-24\n",
            "3  9.999854e-01  1.457399e-05\n",
            "4  8.205214e-12  1.000000e+00\n",
            "5  0.000000e+00  1.000000e+00\n",
            "6  3.108624e-15  1.000000e+00\n",
            "7  0.000000e+00  1.000000e+00\n",
            "8  0.000000e+00  1.000000e+00\n",
            "9  0.000000e+00  1.000000e+00\n",
            "1.0\n",
            "1.0\n",
            "0.999999999998595\n",
            "1.0\n",
            "0    1.000000e+00\n",
            "1    8.389398e-39\n",
            "Name: 1, dtype: float64\n",
            "0    0.0\n",
            "1    1.0\n",
            "Name: 5, dtype: float64\n"
          ],
          "name": "stdout"
        }
      ]
    },
    {
      "cell_type": "code",
      "metadata": {
        "id": "11lPjuIAlNJi",
        "colab_type": "code",
        "colab": {
          "base_uri": "https://localhost:8080/",
          "height": 258
        },
        "outputId": "93ae2617-cd72-4351-c1b4-0f5afaf52d15"
      },
      "source": [
        "#What is most neg? \n",
        "validation_data_df = pd.DataFrame(validation_data)\n",
        "#print(validation_data_df.head(10))\n",
        "print(validation_data_df.iloc[1])\n",
        "print(validation_data_df.iloc[1]['review_clean']) #most neg is Newmans. "
      ],
      "execution_count": 108,
      "outputs": [
        {
          "output_type": "stream",
          "text": [
            "0                                                               0\n",
            "1                                                               0\n",
            "2                                                               0\n",
            "3                                                               0\n",
            "4                                                               0\n",
            "                                      ...                        \n",
            "13750                                                           0\n",
            "13751                                                           0\n",
            "sentiment                                                      -1\n",
            "review_clean    Last summer Amazon carried another organic bra...\n",
            "summary                                             Not impressed\n",
            "Name: 1211, Length: 13755, dtype: object\n",
            "Last summer Amazon carried another organic brand that was superior to this one Although Belle commenter doesnt agree it is bland tasting and chewy Maybe I just got a bad case but I wont be buyng this againI do love other Newman organic products just not this one\n"
          ],
          "name": "stdout"
        }
      ]
    },
    {
      "cell_type": "code",
      "metadata": {
        "id": "KDiNuq7vm-Fx",
        "colab_type": "code",
        "colab": {
          "base_uri": "https://localhost:8080/",
          "height": 238
        },
        "outputId": "ce6423df-6a81-416b-b1ed-e64638d7e5ae"
      },
      "source": [
        "#Get most pos. \n",
        "print(validation_data_df.iloc[5])\n",
        "print(validation_data_df.iloc[5]['review_clean']) #most neg is Newmans. "
      ],
      "execution_count": 109,
      "outputs": [
        {
          "output_type": "stream",
          "text": [
            "0                                                               0\n",
            "1                                                               0\n",
            "2                                                               0\n",
            "3                                                               0\n",
            "4                                                               0\n",
            "                                      ...                        \n",
            "13750                                                           0\n",
            "13751                                                           0\n",
            "sentiment                                                       1\n",
            "review_clean    Great pack of sugar cubes Pretty self explanat...\n",
            "summary                                            Can't go wrong\n",
            "Name: 462, Length: 13755, dtype: object\n",
            "Great pack of sugar cubes Pretty self explanatory what it is Makes a great treat Also great for giving to horses they love them\n"
          ],
          "name": "stdout"
        }
      ]
    },
    {
      "cell_type": "markdown",
      "metadata": {
        "id": "hXfYocsfoKI4",
        "colab_type": "text"
      },
      "source": [
        "**Question 3**: Using the sentiment model with validation_data, which product has the most positive review? \n",
        "* Kellogg's Frosted Flakes\n",
        "* sugar cubes\n",
        "* Zico coconut water\n",
        "* canned soup\n",
        "* Pecan Shortbread\n",
        "\n",
        "**Question 4**: Using the sentiment model with validation_data, which product has the most negative review?\n",
        "* Kellogg's Frosted Flakes\n",
        "* peppermint tea\n",
        "* Zico coconut water\n",
        "* Newmann Organic Product\n",
        "* Pecan Shortbread\n",
        "\n"
      ]
    },
    {
      "cell_type": "markdown",
      "metadata": {
        "id": "3nH3u9b8pX_D",
        "colab_type": "text"
      },
      "source": [
        "# Create a confusion matrix\n",
        "\n",
        "A common tool in dealing with classification is the confusion matrix.\n",
        "\n",
        "We've created a function that will plot a confusion matrix for you given a set of inputs which are the values that should appear within each cell.\n",
        "Recall that there are four values associated with a confusion matrix: true positive, true negative, false positive, and false negative which we will abberviate as TP, TN, FP, and FN, respecitvely. "
      ]
    },
    {
      "cell_type": "code",
      "metadata": {
        "id": "MMJbJAmxZURy",
        "colab_type": "code",
        "colab": {}
      },
      "source": [
        "def plot_confusion_matrix(tp, fp, fn, tn):\n",
        "    \"\"\"\n",
        "    Plots a confusion matrix using the values \n",
        "       tp - True Positive\n",
        "       fp - False Positive\n",
        "       fn - False Negative\n",
        "       tn - True Negative\n",
        "    \"\"\"\n",
        "    data = np.matrix([[tp, fp], [fn, tn]])\n",
        "\n",
        "    sns.heatmap(data,annot=True,xticklabels=['Actual Pos', 'Actual Neg']\n",
        "              ,yticklabels=['Pred. Pos', 'Pred. Neg'])\n"
      ],
      "execution_count": 110,
      "outputs": []
    },
    {
      "cell_type": "markdown",
      "metadata": {
        "id": "GE-uR6OBeNMr",
        "colab_type": "text"
      },
      "source": [
        "Write code below that uses the `plot_confusion_matrix` function to show the number of true positive, true negative, false positive, and false negative predictions made by your classifier. You might find it useful to use named parameters here (i.e. you can call `plot_confusion_matrix(tp=X, fp=Y, fn=A, tn=B)` instead of having to get the order of tha parameters correct)"
      ]
    },
    {
      "cell_type": "code",
      "metadata": {
        "id": "HJO0icupeMro",
        "colab_type": "code",
        "colab": {
          "base_uri": "https://localhost:8080/",
          "height": 745
        },
        "outputId": "c790ef61-2d64-486f-c890-9d77dcf65bdf"
      },
      "source": [
        "# TODO\n",
        "# -- want false neg !! --- \n",
        "\n",
        "tp = 0\n",
        "fp = 0\n",
        "fn = 0\n",
        "tn = 0\n",
        "# get these values from sentiment_model on the validation_data ---\n",
        "\n",
        "# no longer want probabilities, want actual values -- \n",
        "validation_predictions = sentiment_model.predict(validation_data[features])  #prediction\n",
        "validation_predictions_df = pd.DataFrame(validation_predictions)\n",
        "print(validation_predictions_df)\n",
        "\n",
        "print(validation_data_df['sentiment'])   #actual ---\n",
        "\n",
        "\n",
        "for index, row in validation_predictions_df.iterrows():\n",
        "  pred = row[0]\n",
        "  actual = validation_data_df.iloc[index]['sentiment']\n",
        "  if (pred == 1):\n",
        "    if (pred == actual):\n",
        "      tp = tp+1\n",
        "    elif (pred != actual):\n",
        "      fp = fp+1\n",
        "  elif (pred == -1):\n",
        "    if (pred == actual):\n",
        "      tn=tn+1\n",
        "    elif (pred != actual):\n",
        "      fn = fn+1\n",
        "\n",
        "\n",
        "matrix = plot_confusion_matrix(tp=tp, fp=fp, fn=fn, tn=tn)\n",
        "print(matrix)\n",
        "\n",
        "print(fn)"
      ],
      "execution_count": 111,
      "outputs": [
        {
          "output_type": "stream",
          "text": [
            "     0\n",
            "0   -1\n",
            "1   -1\n",
            "2   -1\n",
            "3   -1\n",
            "4    1\n",
            "..  ..\n",
            "168 -1\n",
            "169 -1\n",
            "170  1\n",
            "171 -1\n",
            "172 -1\n",
            "\n",
            "[173 rows x 1 columns]\n",
            "1272   -1\n",
            "1211   -1\n",
            "559    -1\n",
            "1428   -1\n",
            "1309   -1\n",
            "       ..\n",
            "613    -1\n",
            "1469    1\n",
            "1315    1\n",
            "1118   -1\n",
            "1652   -1\n",
            "Name: sentiment, Length: 173, dtype: int64\n",
            "None\n",
            "23\n"
          ],
          "name": "stdout"
        },
        {
          "output_type": "display_data",
          "data": {
            "image/png": "[encoded data removed]",
            "text/plain": [
              "<Figure size 432x288 with 2 Axes>"
            ]
          },
          "metadata": {
            "tags": [],
            "needs_background": "light"
          }
        }
      ]
    },
    {
      "cell_type": "markdown",
      "metadata": {
        "id": "kwMwc9DJfGry",
        "colab_type": "text"
      },
      "source": [
        "**Question 5:** Using the sentiment_model on the validation_data, how many products are classified as having negative sentiment that should be classified as having a positive sentiment?"
      ]
    },
    {
      "cell_type": "markdown",
      "metadata": {
        "id": "cPgLBPoKw5s_",
        "colab_type": "text"
      },
      "source": [
        "# Calculating Accuracy\n",
        "\n",
        "Now that we have succesfully trained a model, let's compare the accuracy of the sentiment_model to that of the baseline classifier.\n",
        "\n",
        "Below, calculate the accuracy of each model using sklearn's [accuracy_score](https://scikit-learn.org/stable/modules/generated/sklearn.metrics.accuracy_score.html) function."
      ]
    },
    {
      "cell_type": "code",
      "metadata": {
        "id": "C7nVSy4nxbX6",
        "colab_type": "code",
        "colab": {
          "base_uri": "https://localhost:8080/",
          "height": 51
        },
        "outputId": "cc119c26-d0f9-4955-ce95-3984591b8e89"
      },
      "source": [
        "# TODO\n",
        "from sklearn.metrics import accuracy_score\n",
        "\n",
        "accuracy_logistic_model = accuracy_score(validation_predictions_df, validation_data_df['sentiment'])\n",
        "print(accuracy_logistic_model)\n",
        "\n",
        "a = []\n",
        "for i in range(173):\n",
        "  a.append(-1)\n",
        "accuracy_maj_model = accuracy_score(validation_data['sentiment'], a)\n",
        "print(accuracy_maj_model)\n"
      ],
      "execution_count": 112,
      "outputs": [
        {
          "output_type": "stream",
          "text": [
            "0.7572254335260116\n",
            "0.5144508670520231\n"
          ],
          "name": "stdout"
        }
      ]
    },
    {
      "cell_type": "markdown",
      "metadata": {
        "id": "qRtiIFI6xcAw",
        "colab_type": "text"
      },
      "source": [
        "**Question 6:** Based on their respect accuracies, which model would we expect to perform better on unseen data?"
      ]
    },
    {
      "cell_type": "markdown",
      "metadata": {
        "id": "W1QAQLi2oKJE",
        "colab_type": "text"
      },
      "source": [
        "### Logistic Regression with L2 regularization\n",
        "\n",
        "One of the challenges of creating features from each word is that there are many more features than observations. It is easy to overfit. We will explore the effect of the regularization on this problem."
      ]
    },
    {
      "cell_type": "markdown",
      "metadata": {
        "id": "FIMO7sWJoKJH",
        "colab_type": "text"
      },
      "source": [
        "Now that we have written up all the pieces needed for regularized logistic regression, let's explore the benefits of using **L2 regularization** in analyzing sentiment for product reviews. **As iterations pass, the log likelihood should increase**.\n",
        "\n",
        "Below, we train models with increasing amounts of regularization, starting with no L2 penalty, which is equivalent to our simple logistic regression implementation."
      ]
    },
    {
      "cell_type": "markdown",
      "metadata": {
        "id": "KDnMQgCAoKJI",
        "colab_type": "text"
      },
      "source": [
        "**TASK:** Train a model with the `feature_names` as features for each of the `l2_penalties` to predict the target `sentiment`. Add a column to `table` with the respective `column_name`, and save the coefficients with the model.\n",
        "\n",
        "You should end up with an DataFrame with column names as `coefficients [L2=1]`, ... `coefficients [L2=1e5]`, and a row for each word in `feature_names`.\n",
        "\n",
        "Use `random_state = 1` to get the same results.\n",
        "\n",
        "**Hint**: You might want to use numpy.transpose() at the end.\n",
        "\n",
        "**Note**: Set `fit_intercept = False`.\n",
        "\n",
        "<span style=\"color:red\">Note: when constructing the LogisticRegression(...) model, the parameter `C` is the **inverse** of the L2 penalty (1 / L2_penalty). </span>"
      ]
    },
    {
      "cell_type": "code",
      "metadata": {
        "id": "btYFyFPxoKJI",
        "colab_type": "code",
        "colab": {
          "base_uri": "https://localhost:8080/",
          "height": 419
        },
        "outputId": "6f828101-b2b8-4aa1-8654-e856979ac95e"
      },
      "source": [
        "# TODO: Fill in the loop\n",
        "l2_penalties = [1, 4, 10, 1e2, 1e3, 1e5]\n",
        "l2_penalty_names = ['coefficients [L2=1]', 'coefficients [L2=4]', 'coefficients [L2=10]', \n",
        "                    'coefficients [L2=1e2]', 'coefficients [L2=1e3]', 'coefficients [L2=1e5]']\n",
        "\n",
        "# Add the coefficients to this table for each model\n",
        "table = pd.DataFrame(columns = ['word'] + l2_penalty_names)\n",
        "table['word'] = feature_names\n",
        "table\n",
        "\n",
        "for l2_penalty, column_name in zip(l2_penalties, l2_penalty_names):\n",
        "    # TODO: Train the model and save the coefficients\n",
        "    sentiment_model = LogisticRegression(penalty='l2', random_state = 1, C = (1/l2_penalty), fit_intercept = False)\n",
        "    sentiment_model.fit(train_data[features], train_data['sentiment'])\n",
        "    transposed_coefs = np.transpose(sentiment_model.coef_)\n",
        "    coef_df = pd.DataFrame(transposed_coefs)\n",
        "    table[column_name] = coef_df[0]\n",
        "    \n",
        "table"
      ],
      "execution_count": 149,
      "outputs": [
        {
          "output_type": "execute_result",
          "data": {
            "text/html": [
              "<div>\n",
              "<style scoped>\n",
              "    .dataframe tbody tr th:only-of-type {\n",
              "        vertical-align: middle;\n",
              "    }\n",
              "\n",
              "    .dataframe tbody tr th {\n",
              "        vertical-align: top;\n",
              "    }\n",
              "\n",
              "    .dataframe thead th {\n",
              "        text-align: right;\n",
              "    }\n",
              "</style>\n",
              "<table border=\"1\" class=\"dataframe\">\n",
              "  <thead>\n",
              "    <tr style=\"text-align: right;\">\n",
              "      <th></th>\n",
              "      <th>word</th>\n",
              "      <th>coefficients [L2=1]</th>\n",
              "      <th>coefficients [L2=4]</th>\n",
              "      <th>coefficients [L2=10]</th>\n",
              "      <th>coefficients [L2=1e2]</th>\n",
              "      <th>coefficients [L2=1e3]</th>\n",
              "      <th>coefficients [L2=1e5]</th>\n",
              "    </tr>\n",
              "  </thead>\n",
              "  <tbody>\n",
              "    <tr>\n",
              "      <th>0</th>\n",
              "      <td></td>\n",
              "      <td>0.039986</td>\n",
              "      <td>0.030585</td>\n",
              "      <td>0.027101</td>\n",
              "      <td>0.026085</td>\n",
              "      <td>0.019572</td>\n",
              "      <td>-4.999368e-04</td>\n",
              "    </tr>\n",
              "    <tr>\n",
              "      <th>1</th>\n",
              "      <td>0</td>\n",
              "      <td>0.137539</td>\n",
              "      <td>0.108952</td>\n",
              "      <td>0.087795</td>\n",
              "      <td>0.029446</td>\n",
              "      <td>0.003514</td>\n",
              "      <td>2.720241e-05</td>\n",
              "    </tr>\n",
              "    <tr>\n",
              "      <th>2</th>\n",
              "      <td>0000</td>\n",
              "      <td>0.045089</td>\n",
              "      <td>0.023882</td>\n",
              "      <td>0.013161</td>\n",
              "      <td>0.002196</td>\n",
              "      <td>0.000387</td>\n",
              "      <td>5.057641e-06</td>\n",
              "    </tr>\n",
              "    <tr>\n",
              "      <th>3</th>\n",
              "      <td>002</td>\n",
              "      <td>-0.001951</td>\n",
              "      <td>-0.001644</td>\n",
              "      <td>-0.001362</td>\n",
              "      <td>-0.000672</td>\n",
              "      <td>-0.000173</td>\n",
              "      <td>-3.909002e-06</td>\n",
              "    </tr>\n",
              "    <tr>\n",
              "      <th>4</th>\n",
              "      <td>004</td>\n",
              "      <td>-0.001951</td>\n",
              "      <td>-0.001644</td>\n",
              "      <td>-0.001362</td>\n",
              "      <td>-0.000672</td>\n",
              "      <td>-0.000173</td>\n",
              "      <td>-3.909002e-06</td>\n",
              "    </tr>\n",
              "    <tr>\n",
              "      <th>...</th>\n",
              "      <td>...</td>\n",
              "      <td>...</td>\n",
              "      <td>...</td>\n",
              "      <td>...</td>\n",
              "      <td>...</td>\n",
              "      <td>...</td>\n",
              "      <td>...</td>\n",
              "    </tr>\n",
              "    <tr>\n",
              "      <th>13747</th>\n",
              "      <td>zip</td>\n",
              "      <td>0.067568</td>\n",
              "      <td>0.051330</td>\n",
              "      <td>0.038688</td>\n",
              "      <td>0.009247</td>\n",
              "      <td>0.001311</td>\n",
              "      <td>1.546803e-05</td>\n",
              "    </tr>\n",
              "    <tr>\n",
              "      <th>13748</th>\n",
              "      <td>ziplock</td>\n",
              "      <td>-0.241276</td>\n",
              "      <td>-0.083971</td>\n",
              "      <td>-0.030349</td>\n",
              "      <td>0.000865</td>\n",
              "      <td>0.000202</td>\n",
              "      <td>2.880156e-07</td>\n",
              "    </tr>\n",
              "    <tr>\n",
              "      <th>13749</th>\n",
              "      <td>zipper</td>\n",
              "      <td>0.147210</td>\n",
              "      <td>0.086409</td>\n",
              "      <td>0.054054</td>\n",
              "      <td>0.009269</td>\n",
              "      <td>0.001022</td>\n",
              "      <td>1.017998e-05</td>\n",
              "    </tr>\n",
              "    <tr>\n",
              "      <th>13750</th>\n",
              "      <td>zombie</td>\n",
              "      <td>-0.125034</td>\n",
              "      <td>-0.067792</td>\n",
              "      <td>-0.038863</td>\n",
              "      <td>-0.006521</td>\n",
              "      <td>-0.000835</td>\n",
              "      <td>-9.847326e-06</td>\n",
              "    </tr>\n",
              "    <tr>\n",
              "      <th>13751</th>\n",
              "      <td>zoo</td>\n",
              "      <td>-0.000197</td>\n",
              "      <td>-0.000368</td>\n",
              "      <td>-0.000429</td>\n",
              "      <td>-0.000404</td>\n",
              "      <td>-0.000148</td>\n",
              "      <td>-4.598141e-06</td>\n",
              "    </tr>\n",
              "  </tbody>\n",
              "</table>\n",
              "<p>13752 rows × 7 columns</p>\n",
              "</div>"
            ],
            "text/plain": [
              "          word  ...  coefficients [L2=1e5]\n",
              "0               ...          -4.999368e-04\n",
              "1            0  ...           2.720241e-05\n",
              "2         0000  ...           5.057641e-06\n",
              "3          002  ...          -3.909002e-06\n",
              "4          004  ...          -3.909002e-06\n",
              "...        ...  ...                    ...\n",
              "13747      zip  ...           1.546803e-05\n",
              "13748  ziplock  ...           2.880156e-07\n",
              "13749   zipper  ...           1.017998e-05\n",
              "13750   zombie  ...          -9.847326e-06\n",
              "13751      zoo  ...          -4.598141e-06\n",
              "\n",
              "[13752 rows x 7 columns]"
            ]
          },
          "metadata": {
            "tags": []
          },
          "execution_count": 149
        }
      ]
    },
    {
      "cell_type": "markdown",
      "metadata": {
        "id": "ph4NS_uAoKJP",
        "colab_type": "text"
      },
      "source": [
        "## Look at the Coefficients\n",
        "\n",
        "We'll now look at the **coefficients** for the model that were trained above. We will create a table of features and learned coefficients associated with each of the different L2 penalty values.\n",
        "\n",
        "Below is a simple helper function that will help us create this table."
      ]
    },
    {
      "cell_type": "markdown",
      "metadata": {
        "id": "Qsv5qKnkoKJQ",
        "colab_type": "text"
      },
      "source": [
        "Using **the coefficients trained with L2 penalty 1**, find the 5 most positive words (with largest positive coefficients). Save them to **positive_words**. Similarly, find the 5 most negative words (with largest negative coefficients) and save them to **negative_words**.\n",
        "\n",
        "**Question 7:** Which of the following appears in neither positive_words nor negative_words?\n",
        "\n",
        "* best\n",
        "* not\n",
        "* tastes\n",
        "* bad\n",
        "* was\n",
        "\n",
        "\n",
        "**Hint:** You can use the `.nlargest()`and `.nsmallest()` method on an DataFrame to find the top k rows sorted according to the value of a specified column."
      ]
    },
    {
      "cell_type": "code",
      "metadata": {
        "id": "ITQA7FG7HQ4f",
        "colab_type": "code",
        "colab": {
          "base_uri": "https://localhost:8080/",
          "height": 221
        },
        "outputId": "291ee038-b100-483c-c900-fd211296a1a3"
      },
      "source": [
        "# TODO\n",
        "print(table.nlargest(5, 'coefficients [L2=1]')['word'])\n",
        "print(table.nsmallest(5, 'coefficients [L2=1]')['word'])\n",
        "\n",
        "positive_words = table.nlargest(5, 'coefficients [L2=1]')['word']\n",
        "negative_words = table.nsmallest(5, 'coefficients [L2=1]')['word']\n",
        "#positive_words = ['easy','great','best','Great','delicious']\n",
        "#negative_words = ['Not','not','bland','tried','bitter']\n",
        "#positive_words  = pd.DataFrame(positive_words,columns=['word'])\n",
        "#negative_words  = pd.DataFrame(negative_words,columns=['word'])"
      ],
      "execution_count": 150,
      "outputs": [
        {
          "output_type": "stream",
          "text": [
            "7620        great\n",
            "6538         easy\n",
            "1693        Great\n",
            "4598         best\n",
            "6056    delicious\n",
            "Name: word, dtype: object\n",
            "2501        Not\n",
            "4673      bland\n",
            "12961     tried\n",
            "9564        not\n",
            "4657     bitter\n",
            "Name: word, dtype: object\n"
          ],
          "name": "stdout"
        }
      ]
    },
    {
      "cell_type": "markdown",
      "metadata": {
        "id": "3VUHUPkUoKJT",
        "colab_type": "text"
      },
      "source": [
        "Let us observe the effect of increasing L2 penalty on the 10 words just selected. We provide you with a utility function to  plot the coefficient path."
      ]
    },
    {
      "cell_type": "code",
      "metadata": {
        "id": "6BcgdwrooKJT",
        "colab_type": "code",
        "colab": {}
      },
      "source": [
        "plt.rcParams['figure.figsize'] = 10, 6\n",
        "\n",
        "def make_coefficient_plot(table, positive_words, negative_words, l2_penalty_list):\n",
        "    cmap_positive = plt.get_cmap('Reds')\n",
        "    cmap_negative = plt.get_cmap('Blues')\n",
        "    \n",
        "    xx = l2_penalty_list\n",
        "    plt.plot(xx, [0.]*len(xx), '--', lw=1, color='k')\n",
        "    \n",
        "    table_positive_words = table[table['word'].isin(positive_words)]\n",
        "    table_negative_words = table[table['word'].isin(negative_words)]\n",
        "    del table_positive_words['word']\n",
        "    del table_negative_words['word']\n",
        "    \n",
        "    for i in range(len(positive_words)):\n",
        "        color = cmap_positive(0.8*((i+1)/(len(positive_words)*1.2)+0.15))\n",
        "        plt.plot(xx, list(table_positive_words.iloc[i]),\n",
        "                 '-', label=positive_words.iloc[i], linewidth=4.0, color=color)\n",
        "        \n",
        "    for i in range(len(negative_words)):\n",
        "        color = cmap_negative(0.8*((i+1)/(len(negative_words)*1.2)+0.15))\n",
        "        plt.plot(xx, list(table_negative_words.iloc[i]),\n",
        "                 '-', label=negative_words.iloc[i], linewidth=4.0, color=color)\n",
        "        \n",
        "    plt.legend(loc='best', ncol=3, prop={'size':16}, columnspacing=0.5)\n",
        "    plt.axis([1, 1e5, -3, 2])\n",
        "    plt.title('Coefficient path')\n",
        "    plt.xlabel('L2 penalty ($\\lambda$)')\n",
        "    plt.ylabel('Coefficient value')\n",
        "    plt.xscale('log')\n",
        "    plt.rcParams.update({'font.size': 18})\n",
        "    plt.tight_layout()"
      ],
      "execution_count": 141,
      "outputs": []
    },
    {
      "cell_type": "markdown",
      "metadata": {
        "id": "1ywpmsZBoKJV",
        "colab_type": "text"
      },
      "source": [
        "Run the following cell to generate the plot. Use the plot to answer the following quiz question."
      ]
    },
    {
      "cell_type": "code",
      "metadata": {
        "id": "sL58jNKboKJV",
        "colab_type": "code",
        "colab": {
          "base_uri": "https://localhost:8080/",
          "height": 424
        },
        "outputId": "31876065-6354-432c-8b7a-fbeb838696d7"
      },
      "source": [
        "make_coefficient_plot(table, positive_words, negative_words, l2_penalty_list=[1, 4, 10, 1e2, 1e3, 1e5])"
      ],
      "execution_count": 148,
      "outputs": [
        {
          "output_type": "display_data",
          "data": {
            "image/png": "[encoded data removed]",
            "text/plain": [
              "<Figure size 720x432 with 1 Axes>"
            ]
          },
          "metadata": {
            "tags": [],
            "needs_background": "light"
          }
        }
      ]
    },
    {
      "cell_type": "markdown",
      "metadata": {
        "id": "vVovzZCd1gDn",
        "colab_type": "text"
      },
      "source": [
        "Calculate how the accuracy on the validation data changes with the increase of the L2 penalty."
      ]
    },
    {
      "cell_type": "code",
      "metadata": {
        "id": "4s9hJNhn2EEL",
        "colab_type": "code",
        "colab": {}
      },
      "source": [
        "# TODO\n",
        "# as lambda increases, the coefficient values become small.\n",
        "for l2_penalty, column_name in zip(l2_penalties, l2_penalty_names):\n",
        "    # TODO: Train the model and save the coefficients\n",
        "    sentiment_model = LogisticRegression(penalty='l2', random_state = 1, C = (1/l2_penalty), fit_intercept = False)\n",
        "    sentiment_model.fit(train_data[features], train_data['sentiment'])\n",
        "    if l2_penalty == 1:\n",
        "      sentiment_model_lower = sentiment_model\n",
        "    if l2_penalty == 1e5:\n",
        "      sentiment_model_higher = sentiment_model\n",
        "    \n",
        "\n",
        "\n"
      ],
      "execution_count": 154,
      "outputs": []
    },
    {
      "cell_type": "code",
      "metadata": {
        "id": "lzzO2VztwMCz",
        "colab_type": "code",
        "colab": {
          "base_uri": "https://localhost:8080/",
          "height": 51
        },
        "outputId": "fb1337de-e413-4e95-f3bd-1ad75ecd2c1e"
      },
      "source": [
        "\n",
        "accuracy_1 = accuracy_score(sentiment_model_lower.predict(validation_data[features]), validation_data_df['sentiment'])\n",
        "accuracy_2 = accuracy_score(sentiment_model_higher.predict(validation_data[features]), validation_data_df['sentiment'])\n",
        "print(accuracy_1)\n",
        "print(accuracy_2)"
      ],
      "execution_count": 155,
      "outputs": [
        {
          "output_type": "stream",
          "text": [
            "0.7630057803468208\n",
            "0.5317919075144508\n"
          ],
          "name": "stdout"
        }
      ]
    },
    {
      "cell_type": "markdown",
      "metadata": {
        "id": "9S9HQ4gboKJW",
        "colab_type": "text"
      },
      "source": [
        "**Question 9**: What is the effect on the accuracy on unseen data for the ridge regression prediction as you make lambda *very large*?\n",
        "* increases\n",
        "* decreases "
      ]
    },
    {
      "cell_type": "markdown",
      "metadata": {
        "id": "r4nEE6sc9-qw",
        "colab_type": "text"
      },
      "source": [
        "Do you have an explanation of why this happens?\n",
        "\n",
        "(Optional) Compare the results with L1 LASSO regression."
      ]
    },
    {
      "cell_type": "code",
      "metadata": {
        "id": "SQ1CH2EVhzd-",
        "colab_type": "code",
        "colab": {}
      },
      "source": [
        "# TODO: optional"
      ],
      "execution_count": null,
      "outputs": []
    },
    {
      "cell_type": "markdown",
      "metadata": {
        "id": "SlmaGts3SPdM",
        "colab_type": "text"
      },
      "source": [
        "> Copyright ©2020 Valentina Staneva, Emily Fox and Hunter Schafer.  All rights reserved.  Permission is hereby granted to students registered for University of Washington CSE/STAT 416 for use solely during Summer Quarter 2020 for purposes of the course.  No other use, copying, distribution, or modification is permitted without prior written consent. Copyrights for third-party components of this work must be honored.  Instructors interested in reusing these course materials should contact the author."
      ]
    }
  ]
}